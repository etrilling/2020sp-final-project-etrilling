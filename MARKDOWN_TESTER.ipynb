{
 "cells": [
  {
   "cell_type": "markdown",
   "metadata": {},
   "source": [
    "- readme\n",
    "\t- add setup instructions (note that only chrome/chromeium can be used!)\n",
    "    - add run instructions\n",
    "\t- add explanation\n",
    "        - rough outline of code\n",
    "        - put data into config\n",
    "\n",
    "run a spell checker on this\n",
    "\n",
    "have mother try to do this! make a new dir!"
   ]
  },
  {
   "cell_type": "markdown",
   "metadata": {},
   "source": [
    "# CSCI E-29 Final Project\n",
    "\n",
    "##### TODO: add badges here\n",
    "\n",
    "### Short Description\n",
    "Given a link to a \"Recorded Lectures\" page on Canvas, download all lectures and all lecture slides (if applicable AND wanted). If desired, once lectures are downloaded, upload a copy to an S3 bucket.\n",
    "\n",
    "This is designed to work with both possible Harvard players. I refer to the \"normal\" player as the \"Matterhorn\" player (as all lecture links look like `matterhorn.dce.harvard.edu...`. The other player is called \"Panopto\" (with links like `harvard.hosted.panopto.com...`. When downloading from the Panopto player, slides can be downloaded if desired (by use of a command line flag).\n",
    "\n",
    "**Requirements**: use a Chromium based browser (for most people this will just be Google Chrome).\n",
    "\n",
    "\n",
    "### Setup\n",
    "\n",
    "1. Clone this repository to your computer.\n",
    "2. Setup the project virtual environment by running `pipenv install` (this assumes `pipenv` is already installed)\n",
    "3. Add your information to a `.env` file.\n",
    "    - CANVAS_USERNAME=XXX\n",
    "    - CANVAS_PASSWORD=XXX\n",
    "    - AWS_ACCESS_KEY_ID=XXX\n",
    "    - AWS_SECRET_ACCESS_KEY=XXX\n",
    "    - S3_ROOT=s3://BUCKET_NAME/PATH `example: s3://etrilling-cscie29/recorded_lectures`\n",
    "    - (optional) VIDEO_PATH=DOWNLOAD_LOCATION_FOR_VIDEOS `default: ./data/videos`\n",
    "4. Please visit https://chromedriver.chromium.org/downloads and follow the instructions to download the correct ChromeDriver file for your computer. (if needed, unzip the download to get the `chromedriver(.exe)` file. Place this file in \n",
    "5. run `pipenv run python -m final_project <COMMAND> <TARGET_URL> [--full] [--process_slides]`\n",
    "    - `<COMMAND>`: one of `download` or `upload`. NOTE: `upload` will start by calling `download`.\n",
    "    - `<TARGET_URL>`: the url of a \"Recorded Lectures\" page on Canvas.\n",
    "    Example:\n",
    "    ![](./imgs/canvas_example_1.jpg)\n",
    "    Here, the correct `<TARGET_RUL>` is `https://canvas.harvard.edu/courses/69812/external_tools/22940`\n",
    "    - `--full`: when set, the full length lectures and slides (if applicable AND wanted) will be downloaded. When not set, each lecture will only download for 1 second and only 2 slides will be downloaded (if applicable AND wanted). If not set, it is assumed the user is doing a test run.\n",
    "    - `--process_slides`: when set AND the player type is Panopto, slides will be processed (downloaded / uploaded) along with the lectures.\n",
    "5. \n",
    "\n",
    "\n",
    "### How does it work?\n",
    "\n"
   ]
  }
 ],
 "metadata": {
  "kernelspec": {
   "display_name": "Python 3",
   "language": "python",
   "name": "python3"
  },
  "language_info": {
   "codemirror_mode": {
    "name": "ipython",
    "version": 3
   },
   "file_extension": ".py",
   "mimetype": "text/x-python",
   "name": "python",
   "nbconvert_exporter": "python",
   "pygments_lexer": "ipython3",
   "version": "3.7.6"
  }
 },
 "nbformat": 4,
 "nbformat_minor": 4
}

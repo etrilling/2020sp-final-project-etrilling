{
 "cells": [
  {
   "cell_type": "markdown",
   "metadata": {},
   "source": [
    "- chomedriver: https://sites.google.com/a/chromium.org/chromedriver/ / https://chromedriver.chromium.org/\n",
    "- chromium command line switches: https://peter.sh/experiments/chromium-command-line-switches/#net-log-capture-mode\n",
    "    - important flags: \"--log-net-log\", \"--net-log-capture-mode\" / \"--enable-logging --v=1\"\n",
    "    - How to capture a NetLog dump: https://www.chromium.org/for-testers/providing-network-details\n",
    "\n",
    "- canvas tutorial: https://towardsdatascience.com/controlling-the-web-with-python-6fceb22c5f08"
   ]
  },
  {
   "cell_type": "code",
   "execution_count": 1,
   "metadata": {},
   "outputs": [],
   "source": [
    "from scrape import *\n",
    "\n",
    "matterhorn_URL = \"https://canvas.harvard.edu/courses/69559/external_tools/22940\"\n",
    "panopto_URL = \"https://canvas.harvard.edu/courses/69902/external_tools/61579\""
   ]
  },
  {
   "cell_type": "code",
   "execution_count": 3,
   "metadata": {
    "scrolled": true
   },
   "outputs": [
    {
     "name": "stderr",
     "output_type": "stream",
     "text": [
      "C:\\Users\\Elliot Trilling\\Desktop\\2020sp-final-project-etrilling\\final_project\\scrape.py:94: UserWarning: No parser was explicitly specified, so I'm using the best available HTML parser for this system (\"html.parser\"). This usually isn't a problem, but if you run this code on another system, or in a different virtual environment, it may use a different parser and behave differently.\n",
      "\n",
      "The code that caused this warning is on line 94 of the file C:\\Users\\Elliot Trilling\\Desktop\\2020sp-final-project-etrilling\\final_project\\scrape.py. To get rid of this warning, pass the additional argument 'features=\"html.parser\"' to the BeautifulSoup constructor.\n",
      "\n",
      "  initial_page = BeautifulSoup(driver.page_source)\n"
     ]
    },
    {
     "name": "stdout",
     "output_type": "stream",
     "text": [
      "done!\n"
     ]
    }
   ],
   "source": [
    "# do setup\n",
    "driver = setup_and_login()\n",
    "\n",
    "# get sources\n",
    "matterhorn_source, matterhorn_player = get_player_psource(driver, matterhorn_URL)\n",
    "panopto_source, panopto_player = get_player_psource(driver, panopto_URL)\n",
    "\n",
    "print(\"done!\")"
   ]
  },
  {
   "cell_type": "code",
   "execution_count": 4,
   "metadata": {
    "scrolled": true
   },
   "outputs": [
    {
     "name": "stderr",
     "output_type": "stream",
     "text": [
      "C:\\Users\\Elliot Trilling\\Desktop\\2020sp-final-project-etrilling\\final_project\\scrape.py:130: UserWarning: No parser was explicitly specified, so I'm using the best available HTML parser for this system (\"html.parser\"). This usually isn't a problem, but if you run this code on another system, or in a different virtual environment, it may use a different parser and behave differently.\n",
      "\n",
      "The code that caused this warning is on line 130 of the file C:\\Users\\Elliot Trilling\\Desktop\\2020sp-final-project-etrilling\\final_project\\scrape.py. To get rid of this warning, pass the additional argument 'features=\"html.parser\"' to the BeautifulSoup constructor.\n",
      "\n",
      "  page = BeautifulSoup(page_source)\n"
     ]
    },
    {
     "data": {
      "text/plain": [
       "({'Lecture 8': 'https://matterhorn.dce.harvard.edu/engage/player/watch.html?id=fac8c27f-f09a-3526-3342-71c1e3000b6d',\n",
       "  'Lecture 7': 'https://matterhorn.dce.harvard.edu/engage/player/watch.html?id=0d967375-59b7-ed69-9077-fd42fe803dcf',\n",
       "  'Lecture 6': 'https://matterhorn.dce.harvard.edu/engage/player/watch.html?id=ae885e80-9943-2aae-ace6-8239f8ae5400',\n",
       "  'Lecture 5': 'https://matterhorn.dce.harvard.edu/engage/player/watch.html?id=afbcfba0-8f78-49e1-b07f-02de1825e87d',\n",
       "  'Lecture 4': 'https://matterhorn.dce.harvard.edu/engage/player/watch.html?id=d7ab21bd-9aff-4c63-b37f-f83828696bf9',\n",
       "  'Lecture 3': 'https://matterhorn.dce.harvard.edu/engage/player/watch.html?id=bcaf6f2e-d604-47b0-9eba-43c09cdf41e0',\n",
       "  'Lecture 2': 'https://matterhorn.dce.harvard.edu/engage/player/watch.html?id=00c103bd-ee1c-46d1-98ed-af927e34b11f',\n",
       "  'Lecture 1': 'https://matterhorn.dce.harvard.edu/engage/player/watch.html?id=efc6dd2d-56c7-4277-9b03-78a453389cfe'},\n",
       " {'Study tip: Flow charts and mindmaps': 'https://harvard.hosted.panopto.com/Panopto/Pages/Viewer.aspx?id=f85126b4-168f-4ba5-b8fc-ab9300c6438f',\n",
       "  '2-5 The Immune System': 'https://harvard.hosted.panopto.com/Panopto/Pages/Viewer.aspx?id=9cca05c1-2ab9-4a6f-b64f-ab8d0129c7de',\n",
       "  '2-4 Sensory Systems part II': 'https://harvard.hosted.panopto.com/Panopto/Pages/Viewer.aspx?id=012072ae-dc09-4912-95e6-ab8900faf638',\n",
       "  '2-4 Sensory System Part Ib': 'https://harvard.hosted.panopto.com/Panopto/Pages/Viewer.aspx?id=d83f2a10-d060-4e69-abae-ab89001330e7',\n",
       "  '2-4 Sensory Systems Part Ia': 'https://harvard.hosted.panopto.com/Panopto/Pages/Viewer.aspx?id=1ba7be4a-535a-4294-bc7c-ab88017da830',\n",
       "  '2-3 The Nervous System. Part II': 'https://harvard.hosted.panopto.com/Panopto/Pages/Viewer.aspx?id=81702ac4-18be-4b11-8ce0-ab85014f0563',\n",
       "  'Lecture 2-3 The Nervous System Part Ib': 'https://harvard.hosted.panopto.com/Panopto/Pages/Viewer.aspx?id=cfcb3e55-6053-4dbc-a8ba-ab84018238b4',\n",
       "  'Lecture 2-3 The Nervous System Part Ia': 'https://harvard.hosted.panopto.com/Panopto/Pages/Viewer.aspx?id=1d0db3b8-c69b-446c-b4a4-ab8401609108',\n",
       "  'Lecture 2-3 Announcements': 'https://harvard.hosted.panopto.com/Panopto/Pages/Viewer.aspx?id=58e71e86-d2ca-4f1b-9d8e-ab8401340a8d',\n",
       "  'BIOS E-1B on 3/4/2020 (Wed)': 'https://harvard.hosted.panopto.com/Panopto/Pages/Viewer.aspx?id=e9f50b48-f1bf-48eb-8a8b-ab3e0148ca86',\n",
       "  'BIOS E-1B on 3/2/2020 (Mon)': 'https://harvard.hosted.panopto.com/Panopto/Pages/Viewer.aspx?id=58bdeb37-0c2e-4d52-a5d8-ab3e0148ca69',\n",
       "  'BIOS E-1B on 2/12/2020 (Wed)': 'https://harvard.hosted.panopto.com/Panopto/Pages/Viewer.aspx?id=1a4f7e12-b81f-4974-8df3-ab3e0148c9ce',\n",
       "  'BIOS E-1B on 2/10/2020 (Mon)': 'https://harvard.hosted.panopto.com/Panopto/Pages/Viewer.aspx?id=382a10b5-54a1-4414-b224-ab3e0148c9ad',\n",
       "  'BIOS E-1B on 2/5/2020 (Wed)': 'https://harvard.hosted.panopto.com/Panopto/Pages/Viewer.aspx?id=f8a33b58-eb94-4b21-ac3b-ab3e0148c97e',\n",
       "  'BIOS E-1B on 2/3/2020 (Mon)': 'https://harvard.hosted.panopto.com/Panopto/Pages/Viewer.aspx?id=1faa1e41-69c9-48dc-9de6-ab3e0148c961',\n",
       "  'BIOS E-1B on 1/29/2020 (Wed)': 'https://harvard.hosted.panopto.com/Panopto/Pages/Viewer.aspx?id=6f209eaf-2aac-47f4-b6f8-ab3e0148c940',\n",
       "  'BIOS E-1B on 1/27/2020 (Mon)': 'https://harvard.hosted.panopto.com/Panopto/Pages/Viewer.aspx?id=5851bbe7-4ca5-437a-b5ea-ab3e0148c8de'})"
      ]
     },
     "execution_count": 4,
     "metadata": {},
     "output_type": "execute_result"
    }
   ],
   "source": [
    "matterhorn_video_dict = extract_video_links(matterhorn_source, player=matterhorn_player)\n",
    "panopto_video_dict = extract_video_links(panopto_source, player=panopto_player)\n",
    "\n",
    "matterhorn_video_dict, panopto_video_dict"
   ]
  },
  {
   "cell_type": "code",
   "execution_count": 7,
   "metadata": {},
   "outputs": [
    {
     "name": "stdout",
     "output_type": "stream",
     "text": [
      "done!\n"
     ]
    }
   ],
   "source": [
    "# do setup\n",
    "driver = setup_and_login()\n",
    "\n",
    "# open_video_links(driver, panopto_video_dict, player=panopto_player, URL=panopto_URL)\n",
    "open_video_links(driver, matterhorn_video_dict, player=matterhorn_player, URL=matterhorn_URL)\n",
    "\n",
    "print(\"done!\")"
   ]
  },
  {
   "cell_type": "code",
   "execution_count": 8,
   "metadata": {
    "scrolled": true
   },
   "outputs": [
    {
     "name": "stdout",
     "output_type": "stream",
     "text": [
      "note: in JSON exception. trying to patch file...\n"
     ]
    },
    {
     "data": {
      "text/plain": [
       "['https://dvgni8clk4vbh.cloudfront.net/engage-player/fac8c27f-f09a-3526-3342-71c1e3000b6d/2f82601a-1ab7-47e7-8354-8705a27062d4/000_shared_screen_with_speaker_view.m3u8',\n",
       " 'https://dvgni8clk4vbh.cloudfront.net/engage-player/fac8c27f-f09a-3526-3342-71c1e3000b6d/73a41862-a349-4cd4-b5a4-a135f842c472/1584592093_variant_0.m3u8',\n",
       " 'https://dvgni8clk4vbh.cloudfront.net/engage-player/fac8c27f-f09a-3526-3342-71c1e3000b6d/cd28d16c-d9ee-4019-9ef1-cb86c8e8762a/1584592093_variant_3.m3u8',\n",
       " 'https://dvgni8clk4vbh.cloudfront.net/engage-player/0d967375-59b7-ed69-9077-fd42fe803dcf/54e7a4fc-483d-4677-a519-e6d9abeb9bbd/000_shared_screen_with_speaker_view.m3u8',\n",
       " 'https://dvgni8clk4vbh.cloudfront.net/engage-player/0d967375-59b7-ed69-9077-fd42fe803dcf/129e64da-0221-4e6f-a4f6-eaca016b47b8/1572479593_variant_0.m3u8',\n",
       " 'https://dvgni8clk4vbh.cloudfront.net/engage-player/0d967375-59b7-ed69-9077-fd42fe803dcf/5ec4845c-53b2-475a-8641-1e00ea0ed77b/1572479593_variant_3.m3u8',\n",
       " 'https://dvgni8clk4vbh.cloudfront.net/engage-player/ae885e80-9943-2aae-ace6-8239f8ae5400/4ed87b50-6695-4999-bec0-85a67cb03f0e/000_shared_screen_with_speaker_view.m3u8',\n",
       " 'https://dvgni8clk4vbh.cloudfront.net/engage-player/ae885e80-9943-2aae-ace6-8239f8ae5400/33b09df3-20be-44a8-9333-5e459549fe51/1561775688_variant_0.m3u8',\n",
       " 'https://dvgni8clk4vbh.cloudfront.net/engage-player/ae885e80-9943-2aae-ace6-8239f8ae5400/a3724d7c-6a92-4274-935e-524f030ccb8b/1561775688_variant_3.m3u8',\n",
       " 'https://dvgni8clk4vbh.cloudfront.net/engage-player/afbcfba0-8f78-49e1-b07f-02de1825e87d/c56c808d-284e-4a17-a14f-67fd84c07f0b/VGA_1583197141_dce_prpn.m3u8',\n",
       " 'https://dvgni8clk4vbh.cloudfront.net/engage-player/afbcfba0-8f78-49e1-b07f-02de1825e87d/6bd29c7c-c05b-4b81-85a1-4854204d581c/VGA_1583197141_dce_prpn.m3u8',\n",
       " 'https://dvgni8clk4vbh.cloudfront.net/engage-player/afbcfba0-8f78-49e1-b07f-02de1825e87d/709430cf-26fa-4a63-9758-68dc0cd3e0f9/1528506156_variant_0.m3u8',\n",
       " 'https://dvgni8clk4vbh.cloudfront.net/engage-player/afbcfba0-8f78-49e1-b07f-02de1825e87d/28b7dd8c-8ade-492b-acf2-2455407ce74d/1528506157_variant_0.m3u8',\n",
       " 'https://dvgni8clk4vbh.cloudfront.net/engage-player/afbcfba0-8f78-49e1-b07f-02de1825e87d/60ffaca2-2b57-426b-9061-3fe3a76bbf84/1528506156_variant_2.m3u8',\n",
       " 'https://dvgni8clk4vbh.cloudfront.net/engage-player/d7ab21bd-9aff-4c63-b37f-f83828696bf9/8b7b5c8d-31f9-4164-a756-6ec4da34cde7/VGA_1582592340_dce_prpn.m3u8',\n",
       " 'https://dvgni8clk4vbh.cloudfront.net/engage-player/d7ab21bd-9aff-4c63-b37f-f83828696bf9/40a87c79-8f14-4865-a555-f91cf02289e6/VGA_1582592340_dce_prpn.m3u8',\n",
       " 'https://dvgni8clk4vbh.cloudfront.net/engage-player/d7ab21bd-9aff-4c63-b37f-f83828696bf9/22fcb579-af50-4321-8da6-8cd23396a0b4/1515674910_variant_0.m3u8',\n",
       " 'https://dvgni8clk4vbh.cloudfront.net/engage-player/d7ab21bd-9aff-4c63-b37f-f83828696bf9/dde3230c-34fc-439e-a4f8-4bea5c245984/1515674911_variant_0.m3u8',\n",
       " 'https://dvgni8clk4vbh.cloudfront.net/engage-player/d7ab21bd-9aff-4c63-b37f-f83828696bf9/e88e0ccb-5fa1-42bf-ba28-dae70676ccc9/1515674910_variant_2.m3u8',\n",
       " 'https://dvgni8clk4vbh.cloudfront.net/engage-player/d7ab21bd-9aff-4c63-b37f-f83828696bf9/59940755-15ab-4eda-b3a7-9a1c6a25a669/1515674911_variant_1.m3u8',\n",
       " 'https://dvgni8clk4vbh.cloudfront.net/engage-player/bcaf6f2e-d604-47b0-9eba-43c09cdf41e0/7e3be004-4c47-4e96-b414-a3868630125e/VGA_1581382741_dce_prpn.m3u8',\n",
       " 'https://dvgni8clk4vbh.cloudfront.net/engage-player/bcaf6f2e-d604-47b0-9eba-43c09cdf41e0/2f95ffb3-e689-4eb8-a788-a4bb1b872254/VGA_1581382741_dce_prpn.m3u8',\n",
       " 'https://dvgni8clk4vbh.cloudfront.net/engage-player/bcaf6f2e-d604-47b0-9eba-43c09cdf41e0/e2bb8f84-4e7e-42ff-8988-bd779aea963e/1489554056_variant_0.m3u8',\n",
       " 'https://dvgni8clk4vbh.cloudfront.net/engage-player/bcaf6f2e-d604-47b0-9eba-43c09cdf41e0/332b8c46-8335-454f-8606-74d5589d1967/1489554055_variant_0.m3u8',\n",
       " 'https://dvgni8clk4vbh.cloudfront.net/engage-player/00c103bd-ee1c-46d1-98ed-af927e34b11f/0050eda4-3ea2-4a43-bf5b-776ed8cdcdcf/VGA_1580777941_dce_prpn.m3u8',\n",
       " 'https://dvgni8clk4vbh.cloudfront.net/engage-player/00c103bd-ee1c-46d1-98ed-af927e34b11f/871b2912-4e32-42fd-a797-da73db206ea3/VGA_1580777941_dce_prpn.m3u8',\n",
       " 'https://dvgni8clk4vbh.cloudfront.net/engage-player/00c103bd-ee1c-46d1-98ed-af927e34b11f/8a13a4d7-1a57-4014-b7e6-082b5326bb5d/1477297708_variant_0.m3u8',\n",
       " 'https://dvgni8clk4vbh.cloudfront.net/engage-player/00c103bd-ee1c-46d1-98ed-af927e34b11f/106a0e0e-947e-447f-b376-f7e5adaffecd/1477297709_variant_0.m3u8',\n",
       " 'https://dvgni8clk4vbh.cloudfront.net/engage-player/00c103bd-ee1c-46d1-98ed-af927e34b11f/347517db-edad-48b7-83ae-faf25ad8e3d5/1477297708_variant_2.m3u8',\n",
       " 'https://dvgni8clk4vbh.cloudfront.net/engage-player/00c103bd-ee1c-46d1-98ed-af927e34b11f/2b96f82a-93bf-4bb0-bcf6-390a1cee3b40/1477297709_variant_1.m3u8',\n",
       " 'https://dvgni8clk4vbh.cloudfront.net/engage-player/efc6dd2d-56c7-4277-9b03-78a453389cfe/8a49bc25-e301-4e2f-a9fd-15f573a725e2/VGA_1580173140_dce_prpn.m3u8',\n",
       " 'https://dvgni8clk4vbh.cloudfront.net/engage-player/efc6dd2d-56c7-4277-9b03-78a453389cfe/85d0972e-bc14-4fa6-a943-602748aa9602/VGA_1580173140_dce_prpn.m3u8',\n",
       " 'https://dvgni8clk4vbh.cloudfront.net/engage-player/efc6dd2d-56c7-4277-9b03-78a453389cfe/fe288004-7a11-47a3-a9a6-3b148b75ebf7/1466875597_variant_0.m3u8',\n",
       " 'https://dvgni8clk4vbh.cloudfront.net/engage-player/efc6dd2d-56c7-4277-9b03-78a453389cfe/f701c304-4280-4d08-96e0-d6951f82237f/1466875596_variant_0.m3u8']"
      ]
     },
     "execution_count": 8,
     "metadata": {},
     "output_type": "execute_result"
    }
   ],
   "source": [
    "# I got an error here once...\n",
    "\n",
    "all_video_urls = get_video_urls(LOG_PATH)\n",
    "all_video_urls"
   ]
  },
  {
   "cell_type": "code",
   "execution_count": 9,
   "metadata": {},
   "outputs": [],
   "source": [
    "# note: a debug tool...\n",
    "\n",
    "def print_dict(my_dict):\n",
    "    for key, value in my_dict.items():\n",
    "        print(key, ':', value)\n",
    "        print('*'*100)\n",
    "    \n",
    "    print('len:', len(my_dict))"
   ]
  },
  {
   "cell_type": "code",
   "execution_count": 10,
   "metadata": {
    "scrolled": true
   },
   "outputs": [
    {
     "name": "stdout",
     "output_type": "stream",
     "text": [
      "Lecture 8 : ['https://dvgni8clk4vbh.cloudfront.net/engage-player/fac8c27f-f09a-3526-3342-71c1e3000b6d/2f82601a-1ab7-47e7-8354-8705a27062d4/000_shared_screen_with_speaker_view.m3u8', 'https://dvgni8clk4vbh.cloudfront.net/engage-player/fac8c27f-f09a-3526-3342-71c1e3000b6d/73a41862-a349-4cd4-b5a4-a135f842c472/1584592093_variant_0.m3u8', 'https://dvgni8clk4vbh.cloudfront.net/engage-player/fac8c27f-f09a-3526-3342-71c1e3000b6d/cd28d16c-d9ee-4019-9ef1-cb86c8e8762a/1584592093_variant_3.m3u8']\n",
      "****************************************************************************************************\n",
      "Lecture 7 : ['https://dvgni8clk4vbh.cloudfront.net/engage-player/0d967375-59b7-ed69-9077-fd42fe803dcf/54e7a4fc-483d-4677-a519-e6d9abeb9bbd/000_shared_screen_with_speaker_view.m3u8', 'https://dvgni8clk4vbh.cloudfront.net/engage-player/0d967375-59b7-ed69-9077-fd42fe803dcf/129e64da-0221-4e6f-a4f6-eaca016b47b8/1572479593_variant_0.m3u8', 'https://dvgni8clk4vbh.cloudfront.net/engage-player/0d967375-59b7-ed69-9077-fd42fe803dcf/5ec4845c-53b2-475a-8641-1e00ea0ed77b/1572479593_variant_3.m3u8']\n",
      "****************************************************************************************************\n",
      "Lecture 6 : ['https://dvgni8clk4vbh.cloudfront.net/engage-player/ae885e80-9943-2aae-ace6-8239f8ae5400/4ed87b50-6695-4999-bec0-85a67cb03f0e/000_shared_screen_with_speaker_view.m3u8', 'https://dvgni8clk4vbh.cloudfront.net/engage-player/ae885e80-9943-2aae-ace6-8239f8ae5400/33b09df3-20be-44a8-9333-5e459549fe51/1561775688_variant_0.m3u8', 'https://dvgni8clk4vbh.cloudfront.net/engage-player/ae885e80-9943-2aae-ace6-8239f8ae5400/a3724d7c-6a92-4274-935e-524f030ccb8b/1561775688_variant_3.m3u8']\n",
      "****************************************************************************************************\n",
      "Lecture 5 : ['https://dvgni8clk4vbh.cloudfront.net/engage-player/afbcfba0-8f78-49e1-b07f-02de1825e87d/c56c808d-284e-4a17-a14f-67fd84c07f0b/VGA_1583197141_dce_prpn.m3u8', 'https://dvgni8clk4vbh.cloudfront.net/engage-player/afbcfba0-8f78-49e1-b07f-02de1825e87d/6bd29c7c-c05b-4b81-85a1-4854204d581c/VGA_1583197141_dce_prpn.m3u8', 'https://dvgni8clk4vbh.cloudfront.net/engage-player/afbcfba0-8f78-49e1-b07f-02de1825e87d/709430cf-26fa-4a63-9758-68dc0cd3e0f9/1528506156_variant_0.m3u8', 'https://dvgni8clk4vbh.cloudfront.net/engage-player/afbcfba0-8f78-49e1-b07f-02de1825e87d/28b7dd8c-8ade-492b-acf2-2455407ce74d/1528506157_variant_0.m3u8', 'https://dvgni8clk4vbh.cloudfront.net/engage-player/afbcfba0-8f78-49e1-b07f-02de1825e87d/60ffaca2-2b57-426b-9061-3fe3a76bbf84/1528506156_variant_2.m3u8']\n",
      "****************************************************************************************************\n",
      "Lecture 4 : ['https://dvgni8clk4vbh.cloudfront.net/engage-player/d7ab21bd-9aff-4c63-b37f-f83828696bf9/8b7b5c8d-31f9-4164-a756-6ec4da34cde7/VGA_1582592340_dce_prpn.m3u8', 'https://dvgni8clk4vbh.cloudfront.net/engage-player/d7ab21bd-9aff-4c63-b37f-f83828696bf9/40a87c79-8f14-4865-a555-f91cf02289e6/VGA_1582592340_dce_prpn.m3u8', 'https://dvgni8clk4vbh.cloudfront.net/engage-player/d7ab21bd-9aff-4c63-b37f-f83828696bf9/22fcb579-af50-4321-8da6-8cd23396a0b4/1515674910_variant_0.m3u8', 'https://dvgni8clk4vbh.cloudfront.net/engage-player/d7ab21bd-9aff-4c63-b37f-f83828696bf9/dde3230c-34fc-439e-a4f8-4bea5c245984/1515674911_variant_0.m3u8', 'https://dvgni8clk4vbh.cloudfront.net/engage-player/d7ab21bd-9aff-4c63-b37f-f83828696bf9/e88e0ccb-5fa1-42bf-ba28-dae70676ccc9/1515674910_variant_2.m3u8', 'https://dvgni8clk4vbh.cloudfront.net/engage-player/d7ab21bd-9aff-4c63-b37f-f83828696bf9/59940755-15ab-4eda-b3a7-9a1c6a25a669/1515674911_variant_1.m3u8']\n",
      "****************************************************************************************************\n",
      "Lecture 3 : ['https://dvgni8clk4vbh.cloudfront.net/engage-player/bcaf6f2e-d604-47b0-9eba-43c09cdf41e0/7e3be004-4c47-4e96-b414-a3868630125e/VGA_1581382741_dce_prpn.m3u8', 'https://dvgni8clk4vbh.cloudfront.net/engage-player/bcaf6f2e-d604-47b0-9eba-43c09cdf41e0/2f95ffb3-e689-4eb8-a788-a4bb1b872254/VGA_1581382741_dce_prpn.m3u8', 'https://dvgni8clk4vbh.cloudfront.net/engage-player/bcaf6f2e-d604-47b0-9eba-43c09cdf41e0/e2bb8f84-4e7e-42ff-8988-bd779aea963e/1489554056_variant_0.m3u8', 'https://dvgni8clk4vbh.cloudfront.net/engage-player/bcaf6f2e-d604-47b0-9eba-43c09cdf41e0/332b8c46-8335-454f-8606-74d5589d1967/1489554055_variant_0.m3u8']\n",
      "****************************************************************************************************\n",
      "Lecture 2 : ['https://dvgni8clk4vbh.cloudfront.net/engage-player/00c103bd-ee1c-46d1-98ed-af927e34b11f/0050eda4-3ea2-4a43-bf5b-776ed8cdcdcf/VGA_1580777941_dce_prpn.m3u8', 'https://dvgni8clk4vbh.cloudfront.net/engage-player/00c103bd-ee1c-46d1-98ed-af927e34b11f/871b2912-4e32-42fd-a797-da73db206ea3/VGA_1580777941_dce_prpn.m3u8', 'https://dvgni8clk4vbh.cloudfront.net/engage-player/00c103bd-ee1c-46d1-98ed-af927e34b11f/8a13a4d7-1a57-4014-b7e6-082b5326bb5d/1477297708_variant_0.m3u8', 'https://dvgni8clk4vbh.cloudfront.net/engage-player/00c103bd-ee1c-46d1-98ed-af927e34b11f/106a0e0e-947e-447f-b376-f7e5adaffecd/1477297709_variant_0.m3u8', 'https://dvgni8clk4vbh.cloudfront.net/engage-player/00c103bd-ee1c-46d1-98ed-af927e34b11f/347517db-edad-48b7-83ae-faf25ad8e3d5/1477297708_variant_2.m3u8', 'https://dvgni8clk4vbh.cloudfront.net/engage-player/00c103bd-ee1c-46d1-98ed-af927e34b11f/2b96f82a-93bf-4bb0-bcf6-390a1cee3b40/1477297709_variant_1.m3u8']\n",
      "****************************************************************************************************\n",
      "Lecture 1 : ['https://dvgni8clk4vbh.cloudfront.net/engage-player/efc6dd2d-56c7-4277-9b03-78a453389cfe/8a49bc25-e301-4e2f-a9fd-15f573a725e2/VGA_1580173140_dce_prpn.m3u8', 'https://dvgni8clk4vbh.cloudfront.net/engage-player/efc6dd2d-56c7-4277-9b03-78a453389cfe/85d0972e-bc14-4fa6-a943-602748aa9602/VGA_1580173140_dce_prpn.m3u8', 'https://dvgni8clk4vbh.cloudfront.net/engage-player/efc6dd2d-56c7-4277-9b03-78a453389cfe/fe288004-7a11-47a3-a9a6-3b148b75ebf7/1466875597_variant_0.m3u8', 'https://dvgni8clk4vbh.cloudfront.net/engage-player/efc6dd2d-56c7-4277-9b03-78a453389cfe/f701c304-4280-4d08-96e0-d6951f82237f/1466875596_variant_0.m3u8']\n",
      "****************************************************************************************************\n",
      "len: 8\n"
     ]
    }
   ],
   "source": [
    "title_to_urls = get_title_to_urls(matterhorn_video_dict, all_video_urls, player=matterhorn_player)\n",
    "# title_to_urls = get_title_to_urls(panopto_video_dict, all_video_urls, player=panopto_player)\n",
    "\n",
    "print_dict(title_to_urls)"
   ]
  },
  {
   "cell_type": "code",
   "execution_count": 18,
   "metadata": {},
   "outputs": [
    {
     "name": "stderr",
     "output_type": "stream",
     "text": [
      "100%|████████████████████████████████████████████████████████████████████████████████████| 8/8 [00:09<00:00,  1.23s/it]\n"
     ]
    },
    {
     "data": {
      "text/plain": [
       "{'Lecture 8': ['https://dvgni8clk4vbh.cloudfront.net/engage-player/fac8c27f-f09a-3526-3342-71c1e3000b6d/568df8a7-78e7-4214-b84d-2f4fc634fb5e/1584592093_segment_3_presenter_high_30fps.mp4'],\n",
       " 'Lecture 7': ['https://dvgni8clk4vbh.cloudfront.net/engage-player/0d967375-59b7-ed69-9077-fd42fe803dcf/c9762c67-1000-4128-92c8-ab47a5ea041f/1572479593_segment_3_presenter_high_30fps.mp4'],\n",
       " 'Lecture 6': ['https://dvgni8clk4vbh.cloudfront.net/engage-player/ae885e80-9943-2aae-ace6-8239f8ae5400/bb752ee2-1cdf-45d2-931a-777d56ff3e64/1561775688_segment_3_presenter_high_30fps.mp4'],\n",
       " 'Lecture 5': ['https://dvgni8clk4vbh.cloudfront.net/engage-player/afbcfba0-8f78-49e1-b07f-02de1825e87d/ab75c553-59a5-4ebb-b291-d6391a39b8ef/1528506156_segment_3_presenter_high_30fps.mp4',\n",
       "  'https://dvgni8clk4vbh.cloudfront.net/engage-player/afbcfba0-8f78-49e1-b07f-02de1825e87d/c07c445d-c955-4358-9a28-418f0e694527/1528506157_segment_0_presentation_high_30fps.mp4'],\n",
       " 'Lecture 4': ['https://dvgni8clk4vbh.cloudfront.net/engage-player/d7ab21bd-9aff-4c63-b37f-f83828696bf9/441475d2-4785-4a74-8972-b7ba4baa351e/1515674910_segment_3_presenter_high_30fps.mp4',\n",
       "  'https://dvgni8clk4vbh.cloudfront.net/engage-player/d7ab21bd-9aff-4c63-b37f-f83828696bf9/b130b122-75e0-4109-b5db-2a291aab4527/1515674911_segment_0_presentation_high_30fps.mp4'],\n",
       " 'Lecture 3': ['https://dvgni8clk4vbh.cloudfront.net/engage-player/bcaf6f2e-d604-47b0-9eba-43c09cdf41e0/c23ce38d-4ffe-420a-998a-3a741a3b52f5/1489554055_segment_3_presenter_high_30fps.mp4',\n",
       "  'https://dvgni8clk4vbh.cloudfront.net/engage-player/bcaf6f2e-d604-47b0-9eba-43c09cdf41e0/8d06b4b4-0434-4fd0-a0df-2589529f744d/1489554056_segment_0_presentation_high_30fps.mp4'],\n",
       " 'Lecture 2': ['https://dvgni8clk4vbh.cloudfront.net/engage-player/00c103bd-ee1c-46d1-98ed-af927e34b11f/ed0614b3-0527-4cf5-8075-f669f9d0e9fb/1477297708_segment_3_presenter_high_30fps.mp4',\n",
       "  'https://dvgni8clk4vbh.cloudfront.net/engage-player/00c103bd-ee1c-46d1-98ed-af927e34b11f/3d5fb495-43bb-40df-9ea4-16a28986d6ce/1477297709_segment_0_presentation_high_30fps.mp4'],\n",
       " 'Lecture 1': ['https://dvgni8clk4vbh.cloudfront.net/engage-player/efc6dd2d-56c7-4277-9b03-78a453389cfe/dd346b69-df38-4d31-8136-fb126acaa361/1466875596_segment_3_presenter_high_30fps.mp4',\n",
       "  'https://dvgni8clk4vbh.cloudfront.net/engage-player/efc6dd2d-56c7-4277-9b03-78a453389cfe/72a66ede-668b-49ae-a23e-d2acf802687c/1466875597_segment_0_presentation_high_30fps.mp4']}"
      ]
     },
     "execution_count": 18,
     "metadata": {},
     "output_type": "execute_result"
    }
   ],
   "source": [
    "title_to_urls2 = get_title_to_urls2(title_to_urls)\n",
    "title_to_urls2"
   ]
  },
  {
   "cell_type": "code",
   "execution_count": 19,
   "metadata": {},
   "outputs": [
    {
     "name": "stderr",
     "output_type": "stream",
     "text": [
      "13it [00:10,  1.21it/s]"
     ]
    },
    {
     "name": "stdout",
     "output_type": "stream",
     "text": [
      "broke from loop after 10.786772966384888 seconds\n"
     ]
    },
    {
     "name": "stderr",
     "output_type": "stream",
     "text": [
      "\n"
     ]
    }
   ],
   "source": [
    "URL = title_to_urls2['Lecture 1'][1]\n",
    "download_video(URL, player=matterhorn_player, video_name=\"test1.mp4\", max_time=10)"
   ]
  },
  {
   "cell_type": "code",
   "execution_count": null,
   "metadata": {},
   "outputs": [],
   "source": []
  },
  {
   "cell_type": "code",
   "execution_count": 20,
   "metadata": {},
   "outputs": [],
   "source": [
    "# def download_all_videos(master_URL, max_time=None):\n",
    "    \n",
    "#     # do setup\n",
    "#     driver = setup_and_login()\n",
    "    \n",
    "#     # get sources\n",
    "#     player_psource, player_type = get_player_psource(driver, master_URL)\n",
    "    \n",
    "#     # get video dict\n",
    "#     video_dict = extract_video_links(player_psource, player=player_type)\n",
    "    \n",
    "#     open_video_links(driver, video_dict, player=player_type, URL=master_URL) # pass in original url\n",
    "    \n",
    "#     all_video_urls = get_video_urls(LOG_PATH)\n",
    "    \n",
    "#     title_to_urls = get_title_to_urls(video_dict, all_video_urls, player=player_type)\n",
    "    \n",
    "#     if player_type == 'matterhorn':\n",
    "#         title_to_urls = get_title_to_urls2(title_to_urls)\n",
    "    \n",
    "#     for title, urls in title_to_urls.items():\n",
    "#         for url_num in range(len(urls)):\n",
    "#             full_title = title + ' - ' + str(url_num) + \".mp4\"\n",
    "#             download_video(urls[url_num], player=player_type, video_name=full_title, max_time=max_time)\n",
    "\n",
    "\n",
    "# download_all_videos(matterhorn_URL, max_time=3)"
   ]
  },
  {
   "cell_type": "code",
   "execution_count": null,
   "metadata": {},
   "outputs": [],
   "source": []
  }
 ],
 "metadata": {
  "kernelspec": {
   "display_name": "Python 3",
   "language": "python",
   "name": "python3"
  },
  "language_info": {
   "codemirror_mode": {
    "name": "ipython",
    "version": 3
   },
   "file_extension": ".py",
   "mimetype": "text/x-python",
   "name": "python",
   "nbconvert_exporter": "python",
   "pygments_lexer": "ipython3",
   "version": "3.7.6"
  }
 },
 "nbformat": 4,
 "nbformat_minor": 2
}

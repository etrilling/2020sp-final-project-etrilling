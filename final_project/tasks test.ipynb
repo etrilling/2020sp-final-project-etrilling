{
 "cells": [
  {
   "cell_type": "code",
   "execution_count": 1,
   "metadata": {},
   "outputs": [],
   "source": [
    "from scrape import *\n",
    "\n",
    "DATA_PATH = os.path.abspath('./../data/data.plk')\n",
    "\n",
    "matterhorn_URL = \"https://canvas.harvard.edu/courses/69559/external_tools/22940\"\n",
    "panopto_URL = \"https://canvas.harvard.edu/courses/69902/external_tools/61579\""
   ]
  },
  {
   "cell_type": "code",
   "execution_count": 2,
   "metadata": {},
   "outputs": [],
   "source": [
    "from luigi import ExternalTask, Parameter, Task\n",
    "from luigi.local_target import LocalTarget\n",
    "import luigi\n",
    "\n",
    "import pickle\n",
    "\n",
    "\n",
    "class DownloadMetadata(Task):\n",
    "    master_URL = Parameter()\n",
    "    \n",
    "#     def requires():\n",
    "#         pass\n",
    "\n",
    "    def output(self):\n",
    "        return LocalTarget(DATA_PATH, format=luigi.format.Nop)\n",
    "    \n",
    "    def run(self):\n",
    "        # do setup\n",
    "        driver = setup_and_login()\n",
    "\n",
    "        # get sources\n",
    "        player_psource, player_type = get_player_psource(driver, self.master_URL)\n",
    "\n",
    "        # get video dict\n",
    "        video_dict = extract_video_links(player_psource, player=player_type)\n",
    "\n",
    "        open_video_links(driver, video_dict, player=player_type, URL=self.master_URL) # pass in original url\n",
    "\n",
    "        all_video_urls = get_video_urls(LOG_PATH)\n",
    "\n",
    "        title_to_urls = get_title_to_urls(video_dict, all_video_urls, player=player_type)\n",
    "\n",
    "        if player_type == 'matterhorn':\n",
    "            title_to_urls = get_title_to_urls2(title_to_urls)\n",
    "        \n",
    "        data = {'title_to_urls': title_to_urls, 'player_type': player_type}\n",
    "        \n",
    "        with self.output().open('w') as f:\n",
    "            pickle.dump(data, f)"
   ]
  },
  {
   "cell_type": "code",
   "execution_count": 3,
   "metadata": {},
   "outputs": [
    {
     "name": "stderr",
     "output_type": "stream",
     "text": [
      "DEBUG: Checking if DownloadMetadata(master_URL=https://canvas.harvard.edu/courses/69559/external_tools/22940) is complete\n",
      "INFO: Informed scheduler that task   DownloadMetadata_https___canvas_h_885a7e0fc5   has status   DONE\n",
      "INFO: Done scheduling tasks\n",
      "INFO: Running Worker with 1 processes\n",
      "DEBUG: Asking scheduler for work...\n",
      "DEBUG: Done\n",
      "DEBUG: There are no more tasks to run at this time\n",
      "INFO: Worker Worker(salt=749664962, workers=1, host=ET-RB-2019, username=Elliot Trilling, pid=15340) was stopped. Shutting down Keep-Alive thread\n",
      "INFO: \n",
      "===== Luigi Execution Summary =====\n",
      "\n",
      "Scheduled 1 tasks of which:\n",
      "* 1 complete ones were encountered:\n",
      "    - 1 DownloadMetadata(master_URL=https://canvas.harvard.edu/courses/69559/external_tools/22940)\n",
      "\n",
      "Did not run any tasks\n",
      "This progress looks :) because there were no failed tasks or missing dependencies\n",
      "\n",
      "===== Luigi Execution Summary =====\n",
      "\n"
     ]
    },
    {
     "data": {
      "text/plain": [
       "True"
      ]
     },
     "execution_count": 3,
     "metadata": {},
     "output_type": "execute_result"
    }
   ],
   "source": [
    "from luigi import build\n",
    "\n",
    "build([DownloadMetadata(master_URL=matterhorn_URL)], local_scheduler=True)"
   ]
  },
  {
   "cell_type": "code",
   "execution_count": 4,
   "metadata": {},
   "outputs": [],
   "source": [
    "with open(DATA_PATH, 'rb') as f:\n",
    "    data = pickle.load(f)\n",
    "\n",
    "title_to_urls = data['title_to_urls']\n",
    "player_type = data['player_type']\n",
    "\n",
    "# title_to_urls"
   ]
  },
  {
   "cell_type": "code",
   "execution_count": 5,
   "metadata": {},
   "outputs": [],
   "source": [
    "def download_video_luigi(URL, player, open_fd, max_time=None):\n",
    "    if max_time is None:\n",
    "        max_time = 60*20 # setting a hard cap of 20min for a single download\n",
    "    \n",
    "    if player == 'matterhorn':\n",
    "        assert(URL[-3:] == 'mp4') # make sure I didn't pass in bad URL\n",
    "        \n",
    "        stream = requests.get(URL, stream=True)\n",
    "    \n",
    "        start_time = time.time()\n",
    "        for chunk in tqdm(stream.iter_content(chunk_size=1048576)):\n",
    "            open_fd.write(chunk)\n",
    "\n",
    "            time_delta = time.time() - start_time\n",
    "            if time_delta > max_time:\n",
    "                print('broke from loop after {} seconds'.format(time_delta))\n",
    "                break\n",
    "    \n",
    "    if player == 'panopto':\n",
    "        # note: I got some inspiration from this tiny project (https://github.com/onesafe/m3u8_to_mp4)\n",
    "        \n",
    "        assert(URL[-4:] == 'm3u8') # make sure I didn't pass in bad URL\n",
    "        \n",
    "        # get content of m3u8 file\n",
    "        m3u8_content = requests.get(URL).content.decode()\n",
    "        \n",
    "        # build a list of ts files\n",
    "        ts_list = []\n",
    "        for line in m3u8_content.splitlines():\n",
    "            if line.endswith('.ts'):\n",
    "                ts_list.append(line)\n",
    "        \n",
    "        # download the video by looping over ts files\n",
    "        start_time = time.time()\n",
    "\n",
    "        for ts in tqdm(ts_list):\n",
    "            ts_url = URL.replace('index.m3u8', ts)\n",
    "            open_fd.write(requests.get(ts_url).content)\n",
    "\n",
    "            # break if over max_time\n",
    "            time_delta = time.time() - start_time\n",
    "            if time_delta > max_time:\n",
    "                print('broke from loop after {} seconds'.format(time_delta))\n",
    "                break"
   ]
  },
  {
   "cell_type": "code",
   "execution_count": 6,
   "metadata": {},
   "outputs": [
    {
     "name": "stderr",
     "output_type": "stream",
     "text": [
      "DEBUG: Not all parameter values are hashable so instance isn't coming from the cache\n",
      "c:\\users\\elliot trilling\\.virtualenvs\\2020sp-final-project-etrilling-zwgwg_6r\\lib\\site-packages\\luigi\\parameter.py:283: UserWarning: Parameter \"download_video_params\" with value \"{'URL': 'https://dvgni8clk4vbh.cloudfront.net/engage-player/fac8c27f-f09a-3526-3342-71c1e3000b6d/568df8a7-78e7-4214-b84d-2f4fc634fb5e/1584592093_segment_3_presenter_high_30fps.mp4', 'player': 'matterhorn', 'video_name': 'test1.mp4', 'max_time': 5}\" is not of type string.\n",
      "  warnings.warn('Parameter \"{}\" with value \"{}\" is not of type string.'.format(param_name, param_value))\n",
      "DEBUG: Checking if DownloadVideo(download_video_params={'URL': 'https://dvgni8clk4vbh.cloudfront.net/engage-player/fac8c27f-f09a-3526-3342-71c1e3000b6d/568df8a7-78e7-4214-b84d-2f4fc634fb5e/1584592093_segment_3_presenter_high_30fps.mp4', 'player': 'matterhorn', 'video_name': 'test1.mp4', 'max_time': 5}) is complete\n",
      "INFO: Informed scheduler that task   DownloadVideo___URL____https___f1ad395a60   has status   DONE\n",
      "INFO: Done scheduling tasks\n",
      "INFO: Running Worker with 1 processes\n",
      "DEBUG: Asking scheduler for work...\n",
      "DEBUG: Done\n",
      "DEBUG: There are no more tasks to run at this time\n",
      "INFO: Worker Worker(salt=082861258, workers=1, host=ET-RB-2019, username=Elliot Trilling, pid=15340) was stopped. Shutting down Keep-Alive thread\n",
      "INFO: \n",
      "===== Luigi Execution Summary =====\n",
      "\n",
      "Scheduled 1 tasks of which:\n",
      "* 1 complete ones were encountered:\n",
      "    - 1 DownloadVideo(...)\n",
      "\n",
      "Did not run any tasks\n",
      "This progress looks :) because there were no failed tasks or missing dependencies\n",
      "\n",
      "===== Luigi Execution Summary =====\n",
      "\n"
     ]
    },
    {
     "data": {
      "text/plain": [
       "True"
      ]
     },
     "execution_count": 6,
     "metadata": {},
     "output_type": "execute_result"
    }
   ],
   "source": [
    "class DownloadVideo(Task):\n",
    "    download_video_params = Parameter()\n",
    "    \n",
    "#     def requires():\n",
    "#         pass\n",
    "    \n",
    "    def output(self):\n",
    "        path = os.path.join(VIDEO_PATH, self.download_video_params['video_name'])\n",
    "        return LocalTarget(path, format=luigi.format.Nop)\n",
    "    \n",
    "    def run(self):\n",
    "        URL = self.download_video_params['URL']\n",
    "        player = self.download_video_params['player']\n",
    "        max_time = self.download_video_params['max_time']\n",
    "        \n",
    "        with self.output().open('w') as open_fd:\n",
    "            download_video_luigi(URL, player, open_fd, max_time)\n",
    "\n",
    "\n",
    "\n",
    "params = {'URL': title_to_urls['Lecture 8'][0], 'player': player_type, 'video_name': 'test1.mp4', 'max_time': 5}\n",
    "build([DownloadVideo(download_video_params=params)], local_scheduler=True)\n",
    "\n",
    "\n",
    "# def foo(URL, player, video_name, max_time):\n",
    "#     print(\"cat\")\n",
    "# foo(**params)"
   ]
  },
  {
   "cell_type": "code",
   "execution_count": null,
   "metadata": {},
   "outputs": [],
   "source": []
  },
  {
   "cell_type": "code",
   "execution_count": 9,
   "metadata": {},
   "outputs": [
    {
     "name": "stderr",
     "output_type": "stream",
     "text": [
      "DEBUG: Checking if DownloadAllVideos(master_URL=https://canvas.harvard.edu/courses/69559/external_tools/22940) is complete\n",
      "DEBUG: Not all parameter values are hashable so instance isn't coming from the cache\n",
      "DEBUG: Not all parameter values are hashable so instance isn't coming from the cache\n",
      "DEBUG: Not all parameter values are hashable so instance isn't coming from the cache\n",
      "DEBUG: Not all parameter values are hashable so instance isn't coming from the cache\n",
      "DEBUG: Not all parameter values are hashable so instance isn't coming from the cache\n",
      "DEBUG: Not all parameter values are hashable so instance isn't coming from the cache\n",
      "DEBUG: Not all parameter values are hashable so instance isn't coming from the cache\n",
      "DEBUG: Not all parameter values are hashable so instance isn't coming from the cache\n",
      "DEBUG: Not all parameter values are hashable so instance isn't coming from the cache\n",
      "DEBUG: Not all parameter values are hashable so instance isn't coming from the cache\n",
      "DEBUG: Not all parameter values are hashable so instance isn't coming from the cache\n",
      "DEBUG: Not all parameter values are hashable so instance isn't coming from the cache\n",
      "DEBUG: Not all parameter values are hashable so instance isn't coming from the cache\n",
      "INFO: Informed scheduler that task   DownloadAllVideos_https___canvas_h_885a7e0fc5   has status   DONE\n",
      "INFO: Done scheduling tasks\n",
      "INFO: Running Worker with 1 processes\n",
      "DEBUG: Asking scheduler for work...\n",
      "DEBUG: Done\n",
      "DEBUG: There are no more tasks to run at this time\n",
      "INFO: Worker Worker(salt=545439057, workers=1, host=ET-RB-2019, username=Elliot Trilling, pid=15340) was stopped. Shutting down Keep-Alive thread\n",
      "INFO: \n",
      "===== Luigi Execution Summary =====\n",
      "\n",
      "Scheduled 1 tasks of which:\n",
      "* 1 complete ones were encountered:\n",
      "    - 1 DownloadAllVideos(master_URL=https://canvas.harvard.edu/courses/69559/external_tools/22940)\n",
      "\n",
      "Did not run any tasks\n",
      "This progress looks :) because there were no failed tasks or missing dependencies\n",
      "\n",
      "===== Luigi Execution Summary =====\n",
      "\n"
     ]
    },
    {
     "data": {
      "text/plain": [
       "True"
      ]
     },
     "execution_count": 9,
     "metadata": {},
     "output_type": "execute_result"
    }
   ],
   "source": [
    "from luigi.task import WrapperTask\n",
    "\n",
    "class DownloadAllVideos(WrapperTask):\n",
    "    master_URL = Parameter()\n",
    "    \n",
    "    def requires(self):\n",
    "        # fist we need to make sure we have the data\n",
    "        data_task = DownloadMetadata(master_URL=self.master_URL)\n",
    "        yield data_task\n",
    "        \n",
    "        # now we can download all the videos\n",
    "        with data_task.output().open('r') as f:\n",
    "            data = pickle.load(f)\n",
    "        title_to_urls = data['title_to_urls']\n",
    "        player_type = data['player_type']\n",
    "        \n",
    "        download_tasks = []\n",
    "        for title, urls in title_to_urls.items():\n",
    "            for url_num in range(len(urls)):\n",
    "                full_title = title + ' - ' + str(url_num) + \".mp4\"\n",
    "                \n",
    "                # TODO: update \"max_time\" at some point\n",
    "                params = {'URL': urls[url_num], 'player': player_type, 'video_name': full_title, 'max_time': 5}\n",
    "                task = DownloadVideo(download_video_params=params)\n",
    "                download_tasks.append(task)\n",
    "\n",
    "        yield download_tasks\n",
    "\n",
    "build([DownloadAllVideos(master_URL=matterhorn_URL)], local_scheduler=True)"
   ]
  }
 ],
 "metadata": {
  "kernelspec": {
   "display_name": "Python 3",
   "language": "python",
   "name": "python3"
  },
  "language_info": {
   "codemirror_mode": {
    "name": "ipython",
    "version": 3
   },
   "file_extension": ".py",
   "mimetype": "text/x-python",
   "name": "python",
   "nbconvert_exporter": "python",
   "pygments_lexer": "ipython3",
   "version": "3.7.6"
  }
 },
 "nbformat": 4,
 "nbformat_minor": 4
}

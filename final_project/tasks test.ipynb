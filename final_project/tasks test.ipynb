{
 "cells": [
  {
   "cell_type": "code",
   "execution_count": 1,
   "metadata": {},
   "outputs": [],
   "source": [
    "from scrape import *\n",
    "\n",
    "matterhorn_URL = \"https://canvas.harvard.edu/courses/69559/external_tools/22940\"\n",
    "panopto_URL = \"https://canvas.harvard.edu/courses/69902/external_tools/61579\""
   ]
  },
  {
   "cell_type": "code",
   "execution_count": 31,
   "metadata": {},
   "outputs": [],
   "source": [
    "from luigi import ExternalTask, Parameter, Task\n",
    "from luigi.local_target import LocalTarget\n",
    "import luigi\n",
    "\n",
    "import pickle\n",
    "\n",
    "\n",
    "class DownloadMetadata(Task):\n",
    "    master_URL = Parameter()\n",
    "    \n",
    "#     def requires():\n",
    "#         pass\n",
    "\n",
    "    def output(self):\n",
    "        return LocalTarget(os.path.join(VIDEO_PATH, 'data.plk'), format=luigi.format.Nop)\n",
    "    \n",
    "    def run(self):\n",
    "        # do setup\n",
    "        driver = setup_and_login()\n",
    "\n",
    "        # get sources\n",
    "        player_psource, player_type = get_player_psource(driver, self.master_URL)\n",
    "\n",
    "        # get video dict\n",
    "        video_dict = extract_video_links(player_psource, player=player_type)\n",
    "\n",
    "        open_video_links(driver, video_dict, player=player_type, URL=self.master_URL) # pass in original url\n",
    "\n",
    "        all_video_urls = get_video_urls(LOG_PATH)\n",
    "\n",
    "        title_to_urls = get_title_to_urls(video_dict, all_video_urls, player=player_type)\n",
    "\n",
    "        if player_type == 'matterhorn':\n",
    "            title_to_urls = get_title_to_urls2(title_to_urls)\n",
    "        \n",
    "        data = {'title_to_urls': title_to_urls, 'player_type': player_type}\n",
    "        \n",
    "        with self.output().open('w') as f:\n",
    "            pickle.dump(data, f)"
   ]
  },
  {
   "cell_type": "code",
   "execution_count": 33,
   "metadata": {},
   "outputs": [
    {
     "name": "stderr",
     "output_type": "stream",
     "text": [
      "DEBUG: Checking if DownloadMetadata(master_URL=https://canvas.harvard.edu/courses/69559/external_tools/22940) is complete\n",
      "INFO: Informed scheduler that task   DownloadMetadata_https___canvas_h_885a7e0fc5   has status   DONE\n",
      "INFO: Done scheduling tasks\n",
      "INFO: Running Worker with 1 processes\n",
      "DEBUG: Asking scheduler for work...\n",
      "DEBUG: Done\n",
      "DEBUG: There are no more tasks to run at this time\n",
      "INFO: Worker Worker(salt=561121470, workers=1, host=ET-RB-2019, username=Elliot Trilling, pid=2496) was stopped. Shutting down Keep-Alive thread\n",
      "INFO: \n",
      "===== Luigi Execution Summary =====\n",
      "\n",
      "Scheduled 1 tasks of which:\n",
      "* 1 complete ones were encountered:\n",
      "    - 1 DownloadMetadata(master_URL=https://canvas.harvard.edu/courses/69559/external_tools/22940)\n",
      "\n",
      "Did not run any tasks\n",
      "This progress looks :) because there were no failed tasks or missing dependencies\n",
      "\n",
      "===== Luigi Execution Summary =====\n",
      "\n"
     ]
    },
    {
     "data": {
      "text/plain": [
       "True"
      ]
     },
     "execution_count": 33,
     "metadata": {},
     "output_type": "execute_result"
    }
   ],
   "source": [
    "from luigi import build\n",
    "\n",
    "build([DownloadMetadata(master_URL=matterhorn_URL)], local_scheduler=True)"
   ]
  },
  {
   "cell_type": "code",
   "execution_count": null,
   "metadata": {},
   "outputs": [],
   "source": [
    "# class DownloadAllVideos(Task):\n",
    "#     def requires():\n",
    "#         return DownloadMetadata()\n",
    "    \n",
    "#     def output():\n",
    "#         with open('data.plk', 'rb') as f:\n",
    "#             data = pickle.load(f)\n",
    "#         title_to_urls = data['title_to_urls']\n",
    "#         player_type = data['player_type']\n",
    "        \n",
    "#         download_tasks = []\n",
    "\n",
    "#         for title, urls in title_to_urls.items():\n",
    "#             for url_num in range(len(urls)):\n",
    "#                 full_title = title + ' - ' + str(url_num) + \".mp4\"\n",
    "\n",
    "#                 task = DownloadVideo(fname=full_title, download_video_params=(urls[url_num], player=player_type,\n",
    "#                                                                               video_name=full_title, max_time=10)) # TODO: update time\n",
    "#                 download_tasks.append(task)\n",
    "\n",
    "#         return download_tasks\n",
    "    \n",
    "#     def run():\n",
    "#         # I don't think we need to run anything\n",
    "#         pass\n",
    "\n",
    "\n",
    "# class DownloadVideo(Task):\n",
    "#     fname = Paramater()\n",
    "#     download_video_params = Paramater()\n",
    "    \n",
    "#     def requires():\n",
    "#         nothing\n",
    "    \n",
    "#     def output():\n",
    "#         LocalTarget(fname)\n",
    "    \n",
    "#     def run():\n",
    "#         download_video(download_video_params)"
   ]
  }
 ],
 "metadata": {
  "kernelspec": {
   "display_name": "Python 3",
   "language": "python",
   "name": "python3"
  },
  "language_info": {
   "codemirror_mode": {
    "name": "ipython",
    "version": 3
   },
   "file_extension": ".py",
   "mimetype": "text/x-python",
   "name": "python",
   "nbconvert_exporter": "python",
   "pygments_lexer": "ipython3",
   "version": "3.7.6"
  }
 },
 "nbformat": 4,
 "nbformat_minor": 4
}

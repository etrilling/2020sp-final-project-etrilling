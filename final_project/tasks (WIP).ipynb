{
 "cells": [
  {
   "cell_type": "code",
   "execution_count": 1,
   "metadata": {},
   "outputs": [],
   "source": [
    "from scrape import *\n",
    "\n",
    "DATA_PATH = os.path.abspath('./../data/data.plk')\n",
    "\n",
    "matterhorn_URL = \"https://canvas.harvard.edu/courses/69559/external_tools/22940\"\n",
    "panopto_URL = \"https://canvas.harvard.edu/courses/69902/external_tools/61579\""
   ]
  },
  {
   "cell_type": "code",
   "execution_count": 2,
   "metadata": {},
   "outputs": [],
   "source": [
    "from luigi import ExternalTask, Parameter, Task\n",
    "from luigi.local_target import LocalTarget\n",
    "import luigi\n",
    "\n",
    "import pickle\n",
    "\n",
    "\n",
    "class DownloadMetadata(Task):\n",
    "    master_URL = Parameter()\n",
    "    \n",
    "#     def requires():\n",
    "#         pass\n",
    "\n",
    "    def output(self):\n",
    "        return LocalTarget(DATA_PATH, format=luigi.format.Nop)\n",
    "    \n",
    "    def run(self):\n",
    "        # do setup\n",
    "        driver = setup_and_login()\n",
    "\n",
    "        # get sources\n",
    "        player_psource, player_type = get_player_psource(driver, self.master_URL)\n",
    "\n",
    "        # get video dict\n",
    "        video_dict = extract_video_links(player_psource, player=player_type)\n",
    "\n",
    "        open_video_links(driver, video_dict, player=player_type, URL=self.master_URL) # pass in original url\n",
    "\n",
    "        all_video_urls = get_video_urls(LOG_PATH)\n",
    "\n",
    "        title_to_urls = get_title_to_urls(video_dict, all_video_urls, player=player_type)\n",
    "\n",
    "        if player_type == 'matterhorn':\n",
    "            title_to_urls = get_title_to_urls2(title_to_urls)\n",
    "        \n",
    "        data = {'title_to_urls': title_to_urls, 'player_type': player_type}\n",
    "        \n",
    "        with self.output().open('w') as f:\n",
    "            pickle.dump(data, f)"
   ]
  },
  {
   "cell_type": "code",
   "execution_count": 3,
   "metadata": {},
   "outputs": [
    {
     "name": "stderr",
     "output_type": "stream",
     "text": [
      "DEBUG: Checking if DownloadMetadata(master_URL=https://canvas.harvard.edu/courses/69559/external_tools/22940) is complete\n",
      "INFO: Informed scheduler that task   DownloadMetadata_https___canvas_h_885a7e0fc5   has status   DONE\n",
      "INFO: Done scheduling tasks\n",
      "INFO: Running Worker with 1 processes\n",
      "DEBUG: Asking scheduler for work...\n",
      "DEBUG: Done\n",
      "DEBUG: There are no more tasks to run at this time\n",
      "INFO: Worker Worker(salt=324656020, workers=1, host=ET-RB-2019, username=Elliot Trilling, pid=4380) was stopped. Shutting down Keep-Alive thread\n",
      "INFO: \n",
      "===== Luigi Execution Summary =====\n",
      "\n",
      "Scheduled 1 tasks of which:\n",
      "* 1 complete ones were encountered:\n",
      "    - 1 DownloadMetadata(master_URL=https://canvas.harvard.edu/courses/69559/external_tools/22940)\n",
      "\n",
      "Did not run any tasks\n",
      "This progress looks :) because there were no failed tasks or missing dependencies\n",
      "\n",
      "===== Luigi Execution Summary =====\n",
      "\n"
     ]
    },
    {
     "data": {
      "text/plain": [
       "True"
      ]
     },
     "execution_count": 3,
     "metadata": {},
     "output_type": "execute_result"
    }
   ],
   "source": [
    "from luigi import build\n",
    "\n",
    "build([DownloadMetadata(master_URL=matterhorn_URL)], local_scheduler=True)"
   ]
  },
  {
   "cell_type": "code",
   "execution_count": 4,
   "metadata": {},
   "outputs": [],
   "source": [
    "with open(DATA_PATH, 'rb') as f:\n",
    "    data = pickle.load(f)\n",
    "\n",
    "title_to_urls = data['title_to_urls']\n",
    "player_type = data['player_type']\n",
    "\n",
    "# title_to_urls"
   ]
  },
  {
   "cell_type": "code",
   "execution_count": 5,
   "metadata": {},
   "outputs": [],
   "source": [
    "def download_video_luigi(URL, player, open_fd, max_time=None):\n",
    "    if max_time is None:\n",
    "        max_time = 60*20 # setting a hard cap of 20min for a single download\n",
    "    \n",
    "    if player == 'matterhorn':\n",
    "        assert(URL[-3:] == 'mp4') # make sure I didn't pass in bad URL\n",
    "        \n",
    "        stream = requests.get(URL, stream=True)\n",
    "    \n",
    "        start_time = time.time()\n",
    "        for chunk in tqdm(stream.iter_content(chunk_size=1048576)):\n",
    "            open_fd.write(chunk)\n",
    "\n",
    "            time_delta = time.time() - start_time\n",
    "            if time_delta > max_time:\n",
    "                print('broke from loop after {} seconds'.format(time_delta))\n",
    "                break\n",
    "    \n",
    "    if player == 'panopto':\n",
    "        # note: I got some inspiration from this tiny project (https://github.com/onesafe/m3u8_to_mp4)\n",
    "        \n",
    "        assert(URL[-4:] == 'm3u8') # make sure I didn't pass in bad URL\n",
    "        \n",
    "        # get content of m3u8 file\n",
    "        m3u8_content = requests.get(URL).content.decode()\n",
    "        \n",
    "        # build a list of ts files\n",
    "        ts_list = []\n",
    "        for line in m3u8_content.splitlines():\n",
    "            if line.endswith('.ts'):\n",
    "                ts_list.append(line)\n",
    "        \n",
    "        # download the video by looping over ts files\n",
    "        start_time = time.time()\n",
    "\n",
    "        for ts in tqdm(ts_list):\n",
    "            ts_url = URL.replace('index.m3u8', ts)\n",
    "            open_fd.write(requests.get(ts_url).content)\n",
    "\n",
    "            # break if over max_time\n",
    "            time_delta = time.time() - start_time\n",
    "            if time_delta > max_time:\n",
    "                print('broke from loop after {} seconds'.format(time_delta))\n",
    "                break"
   ]
  },
  {
   "cell_type": "code",
   "execution_count": 6,
   "metadata": {},
   "outputs": [],
   "source": [
    "class DownloadVideo(Task):\n",
    "    download_video_params = Parameter()\n",
    "    \n",
    "#     def requires():\n",
    "#         pass\n",
    "    \n",
    "    def output(self):\n",
    "        path = os.path.join(VIDEO_PATH, self.download_video_params['video_name'])\n",
    "        return LocalTarget(path, format=luigi.format.Nop)\n",
    "    \n",
    "    def run(self):\n",
    "        URL = self.download_video_params['URL']\n",
    "        player = self.download_video_params['player']\n",
    "        max_time = self.download_video_params['max_time']\n",
    "        \n",
    "        with self.output().open('w') as open_fd:\n",
    "            download_video_luigi(URL, player, open_fd, max_time)\n",
    "\n",
    "\n",
    "\n",
    "params = {'URL': title_to_urls['Lecture 8'][0], 'player': player_type, 'video_name': 'test1.mp4', 'max_time': 5}\n",
    "# build([DownloadVideo(download_video_params=params)], local_scheduler=True)\n",
    "\n",
    "\n",
    "# def foo(URL, player, video_name, max_time):\n",
    "#     print(\"cat\")\n",
    "# foo(**params)"
   ]
  },
  {
   "cell_type": "code",
   "execution_count": null,
   "metadata": {},
   "outputs": [],
   "source": []
  },
  {
   "cell_type": "code",
   "execution_count": 7,
   "metadata": {},
   "outputs": [
    {
     "name": "stderr",
     "output_type": "stream",
     "text": [
      "DEBUG: Checking if DownloadAllVideos(master_URL=https://canvas.harvard.edu/courses/69559/external_tools/22940) is complete\n",
      "DEBUG: Not all parameter values are hashable so instance isn't coming from the cache\n",
      "c:\\users\\elliot trilling\\.virtualenvs\\2020sp-final-project-etrilling-zwgwg_6r\\lib\\site-packages\\luigi\\parameter.py:283: UserWarning: Parameter \"download_video_params\" with value \"{'URL': 'https://dvgni8clk4vbh.cloudfront.net/engage-player/fac8c27f-f09a-3526-3342-71c1e3000b6d/568df8a7-78e7-4214-b84d-2f4fc634fb5e/1584592093_segment_3_presenter_high_30fps.mp4', 'player': 'matterhorn', 'video_name': 'Lecture 8 - 0.mp4', 'max_time': 5}\" is not of type string.\n",
      "  warnings.warn('Parameter \"{}\" with value \"{}\" is not of type string.'.format(param_name, param_value))\n",
      "DEBUG: Not all parameter values are hashable so instance isn't coming from the cache\n",
      "c:\\users\\elliot trilling\\.virtualenvs\\2020sp-final-project-etrilling-zwgwg_6r\\lib\\site-packages\\luigi\\parameter.py:283: UserWarning: Parameter \"download_video_params\" with value \"{'URL': 'https://dvgni8clk4vbh.cloudfront.net/engage-player/0d967375-59b7-ed69-9077-fd42fe803dcf/c9762c67-1000-4128-92c8-ab47a5ea041f/1572479593_segment_3_presenter_high_30fps.mp4', 'player': 'matterhorn', 'video_name': 'Lecture 7 - 0.mp4', 'max_time': 5}\" is not of type string.\n",
      "  warnings.warn('Parameter \"{}\" with value \"{}\" is not of type string.'.format(param_name, param_value))\n",
      "DEBUG: Not all parameter values are hashable so instance isn't coming from the cache\n",
      "c:\\users\\elliot trilling\\.virtualenvs\\2020sp-final-project-etrilling-zwgwg_6r\\lib\\site-packages\\luigi\\parameter.py:283: UserWarning: Parameter \"download_video_params\" with value \"{'URL': 'https://dvgni8clk4vbh.cloudfront.net/engage-player/ae885e80-9943-2aae-ace6-8239f8ae5400/bb752ee2-1cdf-45d2-931a-777d56ff3e64/1561775688_segment_3_presenter_high_30fps.mp4', 'player': 'matterhorn', 'video_name': 'Lecture 6 - 0.mp4', 'max_time': 5}\" is not of type string.\n",
      "  warnings.warn('Parameter \"{}\" with value \"{}\" is not of type string.'.format(param_name, param_value))\n",
      "DEBUG: Not all parameter values are hashable so instance isn't coming from the cache\n",
      "c:\\users\\elliot trilling\\.virtualenvs\\2020sp-final-project-etrilling-zwgwg_6r\\lib\\site-packages\\luigi\\parameter.py:283: UserWarning: Parameter \"download_video_params\" with value \"{'URL': 'https://dvgni8clk4vbh.cloudfront.net/engage-player/afbcfba0-8f78-49e1-b07f-02de1825e87d/ab75c553-59a5-4ebb-b291-d6391a39b8ef/1528506156_segment_3_presenter_high_30fps.mp4', 'player': 'matterhorn', 'video_name': 'Lecture 5 - 0.mp4', 'max_time': 5}\" is not of type string.\n",
      "  warnings.warn('Parameter \"{}\" with value \"{}\" is not of type string.'.format(param_name, param_value))\n",
      "DEBUG: Not all parameter values are hashable so instance isn't coming from the cache\n",
      "c:\\users\\elliot trilling\\.virtualenvs\\2020sp-final-project-etrilling-zwgwg_6r\\lib\\site-packages\\luigi\\parameter.py:283: UserWarning: Parameter \"download_video_params\" with value \"{'URL': 'https://dvgni8clk4vbh.cloudfront.net/engage-player/afbcfba0-8f78-49e1-b07f-02de1825e87d/c07c445d-c955-4358-9a28-418f0e694527/1528506157_segment_0_presentation_high_30fps.mp4', 'player': 'matterhorn', 'video_name': 'Lecture 5 - 1.mp4', 'max_time': 5}\" is not of type string.\n",
      "  warnings.warn('Parameter \"{}\" with value \"{}\" is not of type string.'.format(param_name, param_value))\n",
      "DEBUG: Not all parameter values are hashable so instance isn't coming from the cache\n",
      "c:\\users\\elliot trilling\\.virtualenvs\\2020sp-final-project-etrilling-zwgwg_6r\\lib\\site-packages\\luigi\\parameter.py:283: UserWarning: Parameter \"download_video_params\" with value \"{'URL': 'https://dvgni8clk4vbh.cloudfront.net/engage-player/d7ab21bd-9aff-4c63-b37f-f83828696bf9/441475d2-4785-4a74-8972-b7ba4baa351e/1515674910_segment_3_presenter_high_30fps.mp4', 'player': 'matterhorn', 'video_name': 'Lecture 4 - 0.mp4', 'max_time': 5}\" is not of type string.\n",
      "  warnings.warn('Parameter \"{}\" with value \"{}\" is not of type string.'.format(param_name, param_value))\n",
      "DEBUG: Not all parameter values are hashable so instance isn't coming from the cache\n",
      "c:\\users\\elliot trilling\\.virtualenvs\\2020sp-final-project-etrilling-zwgwg_6r\\lib\\site-packages\\luigi\\parameter.py:283: UserWarning: Parameter \"download_video_params\" with value \"{'URL': 'https://dvgni8clk4vbh.cloudfront.net/engage-player/d7ab21bd-9aff-4c63-b37f-f83828696bf9/b130b122-75e0-4109-b5db-2a291aab4527/1515674911_segment_0_presentation_high_30fps.mp4', 'player': 'matterhorn', 'video_name': 'Lecture 4 - 1.mp4', 'max_time': 5}\" is not of type string.\n",
      "  warnings.warn('Parameter \"{}\" with value \"{}\" is not of type string.'.format(param_name, param_value))\n",
      "DEBUG: Not all parameter values are hashable so instance isn't coming from the cache\n",
      "c:\\users\\elliot trilling\\.virtualenvs\\2020sp-final-project-etrilling-zwgwg_6r\\lib\\site-packages\\luigi\\parameter.py:283: UserWarning: Parameter \"download_video_params\" with value \"{'URL': 'https://dvgni8clk4vbh.cloudfront.net/engage-player/bcaf6f2e-d604-47b0-9eba-43c09cdf41e0/c23ce38d-4ffe-420a-998a-3a741a3b52f5/1489554055_segment_3_presenter_high_30fps.mp4', 'player': 'matterhorn', 'video_name': 'Lecture 3 - 0.mp4', 'max_time': 5}\" is not of type string.\n",
      "  warnings.warn('Parameter \"{}\" with value \"{}\" is not of type string.'.format(param_name, param_value))\n",
      "DEBUG: Not all parameter values are hashable so instance isn't coming from the cache\n",
      "c:\\users\\elliot trilling\\.virtualenvs\\2020sp-final-project-etrilling-zwgwg_6r\\lib\\site-packages\\luigi\\parameter.py:283: UserWarning: Parameter \"download_video_params\" with value \"{'URL': 'https://dvgni8clk4vbh.cloudfront.net/engage-player/bcaf6f2e-d604-47b0-9eba-43c09cdf41e0/8d06b4b4-0434-4fd0-a0df-2589529f744d/1489554056_segment_0_presentation_high_30fps.mp4', 'player': 'matterhorn', 'video_name': 'Lecture 3 - 1.mp4', 'max_time': 5}\" is not of type string.\n",
      "  warnings.warn('Parameter \"{}\" with value \"{}\" is not of type string.'.format(param_name, param_value))\n",
      "DEBUG: Not all parameter values are hashable so instance isn't coming from the cache\n",
      "c:\\users\\elliot trilling\\.virtualenvs\\2020sp-final-project-etrilling-zwgwg_6r\\lib\\site-packages\\luigi\\parameter.py:283: UserWarning: Parameter \"download_video_params\" with value \"{'URL': 'https://dvgni8clk4vbh.cloudfront.net/engage-player/00c103bd-ee1c-46d1-98ed-af927e34b11f/ed0614b3-0527-4cf5-8075-f669f9d0e9fb/1477297708_segment_3_presenter_high_30fps.mp4', 'player': 'matterhorn', 'video_name': 'Lecture 2 - 0.mp4', 'max_time': 5}\" is not of type string.\n",
      "  warnings.warn('Parameter \"{}\" with value \"{}\" is not of type string.'.format(param_name, param_value))\n",
      "DEBUG: Not all parameter values are hashable so instance isn't coming from the cache\n",
      "c:\\users\\elliot trilling\\.virtualenvs\\2020sp-final-project-etrilling-zwgwg_6r\\lib\\site-packages\\luigi\\parameter.py:283: UserWarning: Parameter \"download_video_params\" with value \"{'URL': 'https://dvgni8clk4vbh.cloudfront.net/engage-player/00c103bd-ee1c-46d1-98ed-af927e34b11f/3d5fb495-43bb-40df-9ea4-16a28986d6ce/1477297709_segment_0_presentation_high_30fps.mp4', 'player': 'matterhorn', 'video_name': 'Lecture 2 - 1.mp4', 'max_time': 5}\" is not of type string.\n",
      "  warnings.warn('Parameter \"{}\" with value \"{}\" is not of type string.'.format(param_name, param_value))\n",
      "DEBUG: Not all parameter values are hashable so instance isn't coming from the cache\n",
      "c:\\users\\elliot trilling\\.virtualenvs\\2020sp-final-project-etrilling-zwgwg_6r\\lib\\site-packages\\luigi\\parameter.py:283: UserWarning: Parameter \"download_video_params\" with value \"{'URL': 'https://dvgni8clk4vbh.cloudfront.net/engage-player/efc6dd2d-56c7-4277-9b03-78a453389cfe/dd346b69-df38-4d31-8136-fb126acaa361/1466875596_segment_3_presenter_high_30fps.mp4', 'player': 'matterhorn', 'video_name': 'Lecture 1 - 0.mp4', 'max_time': 5}\" is not of type string.\n",
      "  warnings.warn('Parameter \"{}\" with value \"{}\" is not of type string.'.format(param_name, param_value))\n",
      "DEBUG: Not all parameter values are hashable so instance isn't coming from the cache\n",
      "c:\\users\\elliot trilling\\.virtualenvs\\2020sp-final-project-etrilling-zwgwg_6r\\lib\\site-packages\\luigi\\parameter.py:283: UserWarning: Parameter \"download_video_params\" with value \"{'URL': 'https://dvgni8clk4vbh.cloudfront.net/engage-player/efc6dd2d-56c7-4277-9b03-78a453389cfe/72a66ede-668b-49ae-a23e-d2acf802687c/1466875597_segment_0_presentation_high_30fps.mp4', 'player': 'matterhorn', 'video_name': 'Lecture 1 - 1.mp4', 'max_time': 5}\" is not of type string.\n",
      "  warnings.warn('Parameter \"{}\" with value \"{}\" is not of type string.'.format(param_name, param_value))\n",
      "DEBUG: Not all parameter values are hashable so instance isn't coming from the cache\n"
     ]
    },
    {
     "name": "stderr",
     "output_type": "stream",
     "text": [
      "DEBUG: Not all parameter values are hashable so instance isn't coming from the cache\n",
      "DEBUG: Not all parameter values are hashable so instance isn't coming from the cache\n",
      "DEBUG: Not all parameter values are hashable so instance isn't coming from the cache\n",
      "DEBUG: Not all parameter values are hashable so instance isn't coming from the cache\n",
      "DEBUG: Not all parameter values are hashable so instance isn't coming from the cache\n",
      "DEBUG: Not all parameter values are hashable so instance isn't coming from the cache\n",
      "DEBUG: Not all parameter values are hashable so instance isn't coming from the cache\n",
      "DEBUG: Not all parameter values are hashable so instance isn't coming from the cache\n",
      "DEBUG: Not all parameter values are hashable so instance isn't coming from the cache\n",
      "DEBUG: Not all parameter values are hashable so instance isn't coming from the cache\n",
      "DEBUG: Not all parameter values are hashable so instance isn't coming from the cache\n",
      "DEBUG: Not all parameter values are hashable so instance isn't coming from the cache\n",
      "DEBUG: Checking if DownloadMetadata(master_URL=https://canvas.harvard.edu/courses/69559/external_tools/22940) is complete\n",
      "DEBUG: Checking if DownloadVideo(download_video_params={'URL': 'https://dvgni8clk4vbh.cloudfront.net/engage-player/fac8c27f-f09a-3526-3342-71c1e3000b6d/568df8a7-78e7-4214-b84d-2f4fc634fb5e/1584592093_segment_3_presenter_high_30fps.mp4', 'player': 'matterhorn', 'video_name': 'Lecture 8 - 0.mp4', 'max_time': 5}) is complete\n",
      "DEBUG: Checking if DownloadVideo(download_video_params={'URL': 'https://dvgni8clk4vbh.cloudfront.net/engage-player/0d967375-59b7-ed69-9077-fd42fe803dcf/c9762c67-1000-4128-92c8-ab47a5ea041f/1572479593_segment_3_presenter_high_30fps.mp4', 'player': 'matterhorn', 'video_name': 'Lecture 7 - 0.mp4', 'max_time': 5}) is complete\n",
      "DEBUG: Checking if DownloadVideo(download_video_params={'URL': 'https://dvgni8clk4vbh.cloudfront.net/engage-player/ae885e80-9943-2aae-ace6-8239f8ae5400/bb752ee2-1cdf-45d2-931a-777d56ff3e64/1561775688_segment_3_presenter_high_30fps.mp4', 'player': 'matterhorn', 'video_name': 'Lecture 6 - 0.mp4', 'max_time': 5}) is complete\n",
      "DEBUG: Checking if DownloadVideo(download_video_params={'URL': 'https://dvgni8clk4vbh.cloudfront.net/engage-player/afbcfba0-8f78-49e1-b07f-02de1825e87d/ab75c553-59a5-4ebb-b291-d6391a39b8ef/1528506156_segment_3_presenter_high_30fps.mp4', 'player': 'matterhorn', 'video_name': 'Lecture 5 - 0.mp4', 'max_time': 5}) is complete\n",
      "DEBUG: Checking if DownloadVideo(download_video_params={'URL': 'https://dvgni8clk4vbh.cloudfront.net/engage-player/afbcfba0-8f78-49e1-b07f-02de1825e87d/c07c445d-c955-4358-9a28-418f0e694527/1528506157_segment_0_presentation_high_30fps.mp4', 'player': 'matterhorn', 'video_name': 'Lecture 5 - 1.mp4', 'max_time': 5}) is complete\n",
      "DEBUG: Checking if DownloadVideo(download_video_params={'URL': 'https://dvgni8clk4vbh.cloudfront.net/engage-player/d7ab21bd-9aff-4c63-b37f-f83828696bf9/441475d2-4785-4a74-8972-b7ba4baa351e/1515674910_segment_3_presenter_high_30fps.mp4', 'player': 'matterhorn', 'video_name': 'Lecture 4 - 0.mp4', 'max_time': 5}) is complete\n",
      "DEBUG: Checking if DownloadVideo(download_video_params={'URL': 'https://dvgni8clk4vbh.cloudfront.net/engage-player/d7ab21bd-9aff-4c63-b37f-f83828696bf9/b130b122-75e0-4109-b5db-2a291aab4527/1515674911_segment_0_presentation_high_30fps.mp4', 'player': 'matterhorn', 'video_name': 'Lecture 4 - 1.mp4', 'max_time': 5}) is complete\n",
      "DEBUG: Checking if DownloadVideo(download_video_params={'URL': 'https://dvgni8clk4vbh.cloudfront.net/engage-player/bcaf6f2e-d604-47b0-9eba-43c09cdf41e0/c23ce38d-4ffe-420a-998a-3a741a3b52f5/1489554055_segment_3_presenter_high_30fps.mp4', 'player': 'matterhorn', 'video_name': 'Lecture 3 - 0.mp4', 'max_time': 5}) is complete\n",
      "DEBUG: Checking if DownloadVideo(download_video_params={'URL': 'https://dvgni8clk4vbh.cloudfront.net/engage-player/bcaf6f2e-d604-47b0-9eba-43c09cdf41e0/8d06b4b4-0434-4fd0-a0df-2589529f744d/1489554056_segment_0_presentation_high_30fps.mp4', 'player': 'matterhorn', 'video_name': 'Lecture 3 - 1.mp4', 'max_time': 5}) is complete\n",
      "DEBUG: Checking if DownloadVideo(download_video_params={'URL': 'https://dvgni8clk4vbh.cloudfront.net/engage-player/00c103bd-ee1c-46d1-98ed-af927e34b11f/ed0614b3-0527-4cf5-8075-f669f9d0e9fb/1477297708_segment_3_presenter_high_30fps.mp4', 'player': 'matterhorn', 'video_name': 'Lecture 2 - 0.mp4', 'max_time': 5}) is complete\n",
      "DEBUG: Checking if DownloadVideo(download_video_params={'URL': 'https://dvgni8clk4vbh.cloudfront.net/engage-player/00c103bd-ee1c-46d1-98ed-af927e34b11f/3d5fb495-43bb-40df-9ea4-16a28986d6ce/1477297709_segment_0_presentation_high_30fps.mp4', 'player': 'matterhorn', 'video_name': 'Lecture 2 - 1.mp4', 'max_time': 5}) is complete\n",
      "DEBUG: Checking if DownloadVideo(download_video_params={'URL': 'https://dvgni8clk4vbh.cloudfront.net/engage-player/efc6dd2d-56c7-4277-9b03-78a453389cfe/dd346b69-df38-4d31-8136-fb126acaa361/1466875596_segment_3_presenter_high_30fps.mp4', 'player': 'matterhorn', 'video_name': 'Lecture 1 - 0.mp4', 'max_time': 5}) is complete\n",
      "DEBUG: Checking if DownloadVideo(download_video_params={'URL': 'https://dvgni8clk4vbh.cloudfront.net/engage-player/efc6dd2d-56c7-4277-9b03-78a453389cfe/72a66ede-668b-49ae-a23e-d2acf802687c/1466875597_segment_0_presentation_high_30fps.mp4', 'player': 'matterhorn', 'video_name': 'Lecture 1 - 1.mp4', 'max_time': 5}) is complete\n",
      "INFO: Informed scheduler that task   DownloadAllVideos_https___canvas_h_885a7e0fc5   has status   PENDING\n",
      "INFO: Informed scheduler that task   DownloadVideo___URL____https___cddd32e895   has status   PENDING\n",
      "INFO: Informed scheduler that task   DownloadVideo___URL____https___ffa19e82b0   has status   PENDING\n",
      "INFO: Informed scheduler that task   DownloadVideo___URL____https___40e5a009b4   has status   PENDING\n",
      "INFO: Informed scheduler that task   DownloadVideo___URL____https___5d8b62d8a0   has status   PENDING\n",
      "INFO: Informed scheduler that task   DownloadVideo___URL____https___25489e5e59   has status   PENDING\n",
      "INFO: Informed scheduler that task   DownloadVideo___URL____https___eb7d680832   has status   PENDING\n",
      "INFO: Informed scheduler that task   DownloadVideo___URL____https___03c80b5b75   has status   PENDING\n",
      "INFO: Informed scheduler that task   DownloadVideo___URL____https___fdd6ab0358   has status   PENDING\n",
      "INFO: Informed scheduler that task   DownloadVideo___URL____https___6b3f2a8ab0   has status   PENDING\n",
      "INFO: Informed scheduler that task   DownloadVideo___URL____https___d3a41e8cb6   has status   PENDING\n",
      "INFO: Informed scheduler that task   DownloadVideo___URL____https___0ed0d922ad   has status   PENDING\n",
      "INFO: Informed scheduler that task   DownloadVideo___URL____https___6eabb8d81a   has status   PENDING\n",
      "INFO: Informed scheduler that task   DownloadVideo___URL____https___1fb2c9d0fd   has status   PENDING\n",
      "INFO: Informed scheduler that task   DownloadMetadata_https___canvas_h_885a7e0fc5   has status   DONE\n",
      "INFO: Done scheduling tasks\n",
      "INFO: Running Worker with 1 processes\n",
      "DEBUG: Asking scheduler for work...\n",
      "DEBUG: Pending tasks: 14\n",
      "INFO: [pid 4380] Worker Worker(salt=181653114, workers=1, host=ET-RB-2019, username=Elliot Trilling, pid=4380) running   DownloadVideo(download_video_params={'URL': 'https://dvgni8clk4vbh.cloudfront.net/engage-player/efc6dd2d-56c7-4277-9b03-78a453389cfe/72a66ede-668b-49ae-a23e-d2acf802687c/1466875597_segment_0_presentation_high_30fps.mp4', 'player': 'matterhorn', 'video_name': 'Lecture 1 - 1.mp4', 'max_time': 5})\n",
      "0it [00:05, ?it/s]\n",
      "INFO: [pid 4380] Worker Worker(salt=181653114, workers=1, host=ET-RB-2019, username=Elliot Trilling, pid=4380) done      DownloadVideo(download_video_params={'URL': 'https://dvgni8clk4vbh.cloudfront.net/engage-player/efc6dd2d-56c7-4277-9b03-78a453389cfe/72a66ede-668b-49ae-a23e-d2acf802687c/1466875597_segment_0_presentation_high_30fps.mp4', 'player': 'matterhorn', 'video_name': 'Lecture 1 - 1.mp4', 'max_time': 5})\n",
      "DEBUG: 1 running tasks, waiting for next task to finish\n",
      "INFO: Informed scheduler that task   DownloadVideo___URL____https___cddd32e895   has status   DONE\n",
      "DEBUG: Asking scheduler for work...\n",
      "DEBUG: Pending tasks: 13\n",
      "INFO: [pid 4380] Worker Worker(salt=181653114, workers=1, host=ET-RB-2019, username=Elliot Trilling, pid=4380) running   DownloadVideo(download_video_params={'URL': 'https://dvgni8clk4vbh.cloudfront.net/engage-player/efc6dd2d-56c7-4277-9b03-78a453389cfe/dd346b69-df38-4d31-8136-fb126acaa361/1466875596_segment_3_presenter_high_30fps.mp4', 'player': 'matterhorn', 'video_name': 'Lecture 1 - 0.mp4', 'max_time': 5})\n"
     ]
    },
    {
     "name": "stdout",
     "output_type": "stream",
     "text": [
      "broke from loop after 5.917834520339966 seconds\n"
     ]
    },
    {
     "name": "stderr",
     "output_type": "stream",
     "text": [
      "0it [00:05, ?it/s]\n",
      "INFO: [pid 4380] Worker Worker(salt=181653114, workers=1, host=ET-RB-2019, username=Elliot Trilling, pid=4380) done      DownloadVideo(download_video_params={'URL': 'https://dvgni8clk4vbh.cloudfront.net/engage-player/efc6dd2d-56c7-4277-9b03-78a453389cfe/dd346b69-df38-4d31-8136-fb126acaa361/1466875596_segment_3_presenter_high_30fps.mp4', 'player': 'matterhorn', 'video_name': 'Lecture 1 - 0.mp4', 'max_time': 5})\n",
      "DEBUG: 1 running tasks, waiting for next task to finish\n",
      "INFO: Informed scheduler that task   DownloadVideo___URL____https___ffa19e82b0   has status   DONE\n",
      "DEBUG: Asking scheduler for work...\n",
      "DEBUG: Pending tasks: 12\n",
      "INFO: [pid 4380] Worker Worker(salt=181653114, workers=1, host=ET-RB-2019, username=Elliot Trilling, pid=4380) running   DownloadVideo(download_video_params={'URL': 'https://dvgni8clk4vbh.cloudfront.net/engage-player/00c103bd-ee1c-46d1-98ed-af927e34b11f/3d5fb495-43bb-40df-9ea4-16a28986d6ce/1477297709_segment_0_presentation_high_30fps.mp4', 'player': 'matterhorn', 'video_name': 'Lecture 2 - 1.mp4', 'max_time': 5})\n"
     ]
    },
    {
     "name": "stdout",
     "output_type": "stream",
     "text": [
      "broke from loop after 5.757466793060303 seconds\n"
     ]
    },
    {
     "name": "stderr",
     "output_type": "stream",
     "text": [
      "4it [00:05,  1.26s/it]\n",
      "INFO: [pid 4380] Worker Worker(salt=181653114, workers=1, host=ET-RB-2019, username=Elliot Trilling, pid=4380) done      DownloadVideo(download_video_params={'URL': 'https://dvgni8clk4vbh.cloudfront.net/engage-player/00c103bd-ee1c-46d1-98ed-af927e34b11f/3d5fb495-43bb-40df-9ea4-16a28986d6ce/1477297709_segment_0_presentation_high_30fps.mp4', 'player': 'matterhorn', 'video_name': 'Lecture 2 - 1.mp4', 'max_time': 5})\n",
      "DEBUG: 1 running tasks, waiting for next task to finish\n",
      "INFO: Informed scheduler that task   DownloadVideo___URL____https___40e5a009b4   has status   DONE\n",
      "DEBUG: Asking scheduler for work...\n",
      "DEBUG: Pending tasks: 11\n",
      "INFO: [pid 4380] Worker Worker(salt=181653114, workers=1, host=ET-RB-2019, username=Elliot Trilling, pid=4380) running   DownloadVideo(download_video_params={'URL': 'https://dvgni8clk4vbh.cloudfront.net/engage-player/00c103bd-ee1c-46d1-98ed-af927e34b11f/ed0614b3-0527-4cf5-8075-f669f9d0e9fb/1477297708_segment_3_presenter_high_30fps.mp4', 'player': 'matterhorn', 'video_name': 'Lecture 2 - 0.mp4', 'max_time': 5})\n"
     ]
    },
    {
     "name": "stdout",
     "output_type": "stream",
     "text": [
      "broke from loop after 5.042280912399292 seconds\n"
     ]
    },
    {
     "name": "stderr",
     "output_type": "stream",
     "text": [
      "5it [00:05,  1.18s/it]\n",
      "INFO: [pid 4380] Worker Worker(salt=181653114, workers=1, host=ET-RB-2019, username=Elliot Trilling, pid=4380) done      DownloadVideo(download_video_params={'URL': 'https://dvgni8clk4vbh.cloudfront.net/engage-player/00c103bd-ee1c-46d1-98ed-af927e34b11f/ed0614b3-0527-4cf5-8075-f669f9d0e9fb/1477297708_segment_3_presenter_high_30fps.mp4', 'player': 'matterhorn', 'video_name': 'Lecture 2 - 0.mp4', 'max_time': 5})\n",
      "DEBUG: 1 running tasks, waiting for next task to finish\n",
      "INFO: Informed scheduler that task   DownloadVideo___URL____https___5d8b62d8a0   has status   DONE\n",
      "DEBUG: Asking scheduler for work...\n",
      "DEBUG: Pending tasks: 10\n",
      "INFO: [pid 4380] Worker Worker(salt=181653114, workers=1, host=ET-RB-2019, username=Elliot Trilling, pid=4380) running   DownloadVideo(download_video_params={'URL': 'https://dvgni8clk4vbh.cloudfront.net/engage-player/bcaf6f2e-d604-47b0-9eba-43c09cdf41e0/8d06b4b4-0434-4fd0-a0df-2589529f744d/1489554056_segment_0_presentation_high_30fps.mp4', 'player': 'matterhorn', 'video_name': 'Lecture 3 - 1.mp4', 'max_time': 5})\n"
     ]
    },
    {
     "name": "stdout",
     "output_type": "stream",
     "text": [
      "broke from loop after 5.904057502746582 seconds\n"
     ]
    },
    {
     "name": "stderr",
     "output_type": "stream",
     "text": [
      "3it [00:05,  1.80s/it]\n",
      "INFO: [pid 4380] Worker Worker(salt=181653114, workers=1, host=ET-RB-2019, username=Elliot Trilling, pid=4380) done      DownloadVideo(download_video_params={'URL': 'https://dvgni8clk4vbh.cloudfront.net/engage-player/bcaf6f2e-d604-47b0-9eba-43c09cdf41e0/8d06b4b4-0434-4fd0-a0df-2589529f744d/1489554056_segment_0_presentation_high_30fps.mp4', 'player': 'matterhorn', 'video_name': 'Lecture 3 - 1.mp4', 'max_time': 5})\n",
      "DEBUG: 1 running tasks, waiting for next task to finish\n",
      "INFO: Informed scheduler that task   DownloadVideo___URL____https___25489e5e59   has status   DONE\n",
      "DEBUG: Asking scheduler for work...\n",
      "DEBUG: Pending tasks: 9\n",
      "INFO: [pid 4380] Worker Worker(salt=181653114, workers=1, host=ET-RB-2019, username=Elliot Trilling, pid=4380) running   DownloadVideo(download_video_params={'URL': 'https://dvgni8clk4vbh.cloudfront.net/engage-player/bcaf6f2e-d604-47b0-9eba-43c09cdf41e0/c23ce38d-4ffe-420a-998a-3a741a3b52f5/1489554055_segment_3_presenter_high_30fps.mp4', 'player': 'matterhorn', 'video_name': 'Lecture 3 - 0.mp4', 'max_time': 5})\n"
     ]
    },
    {
     "name": "stdout",
     "output_type": "stream",
     "text": [
      "broke from loop after 5.399343967437744 seconds\n"
     ]
    },
    {
     "name": "stderr",
     "output_type": "stream",
     "text": [
      "5it [00:05,  1.07s/it]\n",
      "INFO: [pid 4380] Worker Worker(salt=181653114, workers=1, host=ET-RB-2019, username=Elliot Trilling, pid=4380) done      DownloadVideo(download_video_params={'URL': 'https://dvgni8clk4vbh.cloudfront.net/engage-player/bcaf6f2e-d604-47b0-9eba-43c09cdf41e0/c23ce38d-4ffe-420a-998a-3a741a3b52f5/1489554055_segment_3_presenter_high_30fps.mp4', 'player': 'matterhorn', 'video_name': 'Lecture 3 - 0.mp4', 'max_time': 5})\n",
      "DEBUG: 1 running tasks, waiting for next task to finish\n",
      "INFO: Informed scheduler that task   DownloadVideo___URL____https___eb7d680832   has status   DONE\n",
      "DEBUG: Asking scheduler for work...\n",
      "DEBUG: Pending tasks: 8\n",
      "INFO: [pid 4380] Worker Worker(salt=181653114, workers=1, host=ET-RB-2019, username=Elliot Trilling, pid=4380) running   DownloadVideo(download_video_params={'URL': 'https://dvgni8clk4vbh.cloudfront.net/engage-player/d7ab21bd-9aff-4c63-b37f-f83828696bf9/b130b122-75e0-4109-b5db-2a291aab4527/1515674911_segment_0_presentation_high_30fps.mp4', 'player': 'matterhorn', 'video_name': 'Lecture 4 - 1.mp4', 'max_time': 5})\n"
     ]
    },
    {
     "name": "stdout",
     "output_type": "stream",
     "text": [
      "broke from loop after 5.338276624679565 seconds\n"
     ]
    },
    {
     "name": "stderr",
     "output_type": "stream",
     "text": [
      "5it [00:06,  1.20s/it]\n",
      "INFO: [pid 4380] Worker Worker(salt=181653114, workers=1, host=ET-RB-2019, username=Elliot Trilling, pid=4380) done      DownloadVideo(download_video_params={'URL': 'https://dvgni8clk4vbh.cloudfront.net/engage-player/d7ab21bd-9aff-4c63-b37f-f83828696bf9/b130b122-75e0-4109-b5db-2a291aab4527/1515674911_segment_0_presentation_high_30fps.mp4', 'player': 'matterhorn', 'video_name': 'Lecture 4 - 1.mp4', 'max_time': 5})\n",
      "DEBUG: 1 running tasks, waiting for next task to finish\n",
      "INFO: Informed scheduler that task   DownloadVideo___URL____https___03c80b5b75   has status   DONE\n",
      "DEBUG: Asking scheduler for work...\n",
      "DEBUG: Pending tasks: 7\n",
      "INFO: [pid 4380] Worker Worker(salt=181653114, workers=1, host=ET-RB-2019, username=Elliot Trilling, pid=4380) running   DownloadVideo(download_video_params={'URL': 'https://dvgni8clk4vbh.cloudfront.net/engage-player/d7ab21bd-9aff-4c63-b37f-f83828696bf9/441475d2-4785-4a74-8972-b7ba4baa351e/1515674910_segment_3_presenter_high_30fps.mp4', 'player': 'matterhorn', 'video_name': 'Lecture 4 - 0.mp4', 'max_time': 5})\n"
     ]
    },
    {
     "name": "stdout",
     "output_type": "stream",
     "text": [
      "broke from loop after 6.014382362365723 seconds\n"
     ]
    },
    {
     "name": "stderr",
     "output_type": "stream",
     "text": [
      "5it [00:06,  1.25s/it]\n",
      "INFO: [pid 4380] Worker Worker(salt=181653114, workers=1, host=ET-RB-2019, username=Elliot Trilling, pid=4380) done      DownloadVideo(download_video_params={'URL': 'https://dvgni8clk4vbh.cloudfront.net/engage-player/d7ab21bd-9aff-4c63-b37f-f83828696bf9/441475d2-4785-4a74-8972-b7ba4baa351e/1515674910_segment_3_presenter_high_30fps.mp4', 'player': 'matterhorn', 'video_name': 'Lecture 4 - 0.mp4', 'max_time': 5})\n",
      "DEBUG: 1 running tasks, waiting for next task to finish\n",
      "INFO: Informed scheduler that task   DownloadVideo___URL____https___fdd6ab0358   has status   DONE\n",
      "DEBUG: Asking scheduler for work...\n",
      "DEBUG: Pending tasks: 6\n",
      "INFO: [pid 4380] Worker Worker(salt=181653114, workers=1, host=ET-RB-2019, username=Elliot Trilling, pid=4380) running   DownloadVideo(download_video_params={'URL': 'https://dvgni8clk4vbh.cloudfront.net/engage-player/afbcfba0-8f78-49e1-b07f-02de1825e87d/c07c445d-c955-4358-9a28-418f0e694527/1528506157_segment_0_presentation_high_30fps.mp4', 'player': 'matterhorn', 'video_name': 'Lecture 5 - 1.mp4', 'max_time': 5})\n"
     ]
    },
    {
     "name": "stdout",
     "output_type": "stream",
     "text": [
      "broke from loop after 6.235171794891357 seconds\n"
     ]
    },
    {
     "name": "stderr",
     "output_type": "stream",
     "text": [
      "6it [00:05,  1.15it/s]\n",
      "INFO: [pid 4380] Worker Worker(salt=181653114, workers=1, host=ET-RB-2019, username=Elliot Trilling, pid=4380) done      DownloadVideo(download_video_params={'URL': 'https://dvgni8clk4vbh.cloudfront.net/engage-player/afbcfba0-8f78-49e1-b07f-02de1825e87d/c07c445d-c955-4358-9a28-418f0e694527/1528506157_segment_0_presentation_high_30fps.mp4', 'player': 'matterhorn', 'video_name': 'Lecture 5 - 1.mp4', 'max_time': 5})\n",
      "DEBUG: 1 running tasks, waiting for next task to finish\n",
      "INFO: Informed scheduler that task   DownloadVideo___URL____https___6b3f2a8ab0   has status   DONE\n",
      "DEBUG: Asking scheduler for work...\n",
      "DEBUG: Pending tasks: 5\n",
      "INFO: [pid 4380] Worker Worker(salt=181653114, workers=1, host=ET-RB-2019, username=Elliot Trilling, pid=4380) running   DownloadVideo(download_video_params={'URL': 'https://dvgni8clk4vbh.cloudfront.net/engage-player/afbcfba0-8f78-49e1-b07f-02de1825e87d/ab75c553-59a5-4ebb-b291-d6391a39b8ef/1528506156_segment_3_presenter_high_30fps.mp4', 'player': 'matterhorn', 'video_name': 'Lecture 5 - 0.mp4', 'max_time': 5})\n"
     ]
    },
    {
     "name": "stdout",
     "output_type": "stream",
     "text": [
      "broke from loop after 5.227710962295532 seconds\n"
     ]
    },
    {
     "name": "stderr",
     "output_type": "stream",
     "text": [
      "5it [00:05,  1.01s/it]\n",
      "INFO: [pid 4380] Worker Worker(salt=181653114, workers=1, host=ET-RB-2019, username=Elliot Trilling, pid=4380) done      DownloadVideo(download_video_params={'URL': 'https://dvgni8clk4vbh.cloudfront.net/engage-player/afbcfba0-8f78-49e1-b07f-02de1825e87d/ab75c553-59a5-4ebb-b291-d6391a39b8ef/1528506156_segment_3_presenter_high_30fps.mp4', 'player': 'matterhorn', 'video_name': 'Lecture 5 - 0.mp4', 'max_time': 5})\n",
      "DEBUG: 1 running tasks, waiting for next task to finish\n",
      "INFO: Informed scheduler that task   DownloadVideo___URL____https___d3a41e8cb6   has status   DONE\n",
      "DEBUG: Asking scheduler for work...\n",
      "DEBUG: Pending tasks: 4\n",
      "INFO: [pid 4380] Worker Worker(salt=181653114, workers=1, host=ET-RB-2019, username=Elliot Trilling, pid=4380) running   DownloadVideo(download_video_params={'URL': 'https://dvgni8clk4vbh.cloudfront.net/engage-player/ae885e80-9943-2aae-ace6-8239f8ae5400/bb752ee2-1cdf-45d2-931a-777d56ff3e64/1561775688_segment_3_presenter_high_30fps.mp4', 'player': 'matterhorn', 'video_name': 'Lecture 6 - 0.mp4', 'max_time': 5})\n"
     ]
    },
    {
     "name": "stdout",
     "output_type": "stream",
     "text": [
      "broke from loop after 5.034370183944702 seconds\n"
     ]
    },
    {
     "name": "stderr",
     "output_type": "stream",
     "text": [
      "5it [00:05,  1.11s/it]\n",
      "INFO: [pid 4380] Worker Worker(salt=181653114, workers=1, host=ET-RB-2019, username=Elliot Trilling, pid=4380) done      DownloadVideo(download_video_params={'URL': 'https://dvgni8clk4vbh.cloudfront.net/engage-player/ae885e80-9943-2aae-ace6-8239f8ae5400/bb752ee2-1cdf-45d2-931a-777d56ff3e64/1561775688_segment_3_presenter_high_30fps.mp4', 'player': 'matterhorn', 'video_name': 'Lecture 6 - 0.mp4', 'max_time': 5})\n",
      "DEBUG: 1 running tasks, waiting for next task to finish\n",
      "INFO: Informed scheduler that task   DownloadVideo___URL____https___0ed0d922ad   has status   DONE\n",
      "DEBUG: Asking scheduler for work...\n",
      "DEBUG: Pending tasks: 3\n",
      "INFO: [pid 4380] Worker Worker(salt=181653114, workers=1, host=ET-RB-2019, username=Elliot Trilling, pid=4380) running   DownloadVideo(download_video_params={'URL': 'https://dvgni8clk4vbh.cloudfront.net/engage-player/0d967375-59b7-ed69-9077-fd42fe803dcf/c9762c67-1000-4128-92c8-ab47a5ea041f/1572479593_segment_3_presenter_high_30fps.mp4', 'player': 'matterhorn', 'video_name': 'Lecture 7 - 0.mp4', 'max_time': 5})\n"
     ]
    },
    {
     "name": "stdout",
     "output_type": "stream",
     "text": [
      "broke from loop after 5.52709436416626 seconds\n"
     ]
    },
    {
     "name": "stderr",
     "output_type": "stream",
     "text": [
      "3it [00:06,  2.05s/it]\n",
      "INFO: [pid 4380] Worker Worker(salt=181653114, workers=1, host=ET-RB-2019, username=Elliot Trilling, pid=4380) done      DownloadVideo(download_video_params={'URL': 'https://dvgni8clk4vbh.cloudfront.net/engage-player/0d967375-59b7-ed69-9077-fd42fe803dcf/c9762c67-1000-4128-92c8-ab47a5ea041f/1572479593_segment_3_presenter_high_30fps.mp4', 'player': 'matterhorn', 'video_name': 'Lecture 7 - 0.mp4', 'max_time': 5})\n",
      "DEBUG: 1 running tasks, waiting for next task to finish\n",
      "INFO: Informed scheduler that task   DownloadVideo___URL____https___6eabb8d81a   has status   DONE\n",
      "DEBUG: Asking scheduler for work...\n",
      "DEBUG: Pending tasks: 2\n",
      "INFO: [pid 4380] Worker Worker(salt=181653114, workers=1, host=ET-RB-2019, username=Elliot Trilling, pid=4380) running   DownloadVideo(download_video_params={'URL': 'https://dvgni8clk4vbh.cloudfront.net/engage-player/fac8c27f-f09a-3526-3342-71c1e3000b6d/568df8a7-78e7-4214-b84d-2f4fc634fb5e/1584592093_segment_3_presenter_high_30fps.mp4', 'player': 'matterhorn', 'video_name': 'Lecture 8 - 0.mp4', 'max_time': 5})\n"
     ]
    },
    {
     "name": "stdout",
     "output_type": "stream",
     "text": [
      "broke from loop after 6.144935369491577 seconds\n"
     ]
    },
    {
     "name": "stderr",
     "output_type": "stream",
     "text": [
      "2it [00:05,  2.70s/it]\n",
      "INFO: [pid 4380] Worker Worker(salt=181653114, workers=1, host=ET-RB-2019, username=Elliot Trilling, pid=4380) done      DownloadVideo(download_video_params={'URL': 'https://dvgni8clk4vbh.cloudfront.net/engage-player/fac8c27f-f09a-3526-3342-71c1e3000b6d/568df8a7-78e7-4214-b84d-2f4fc634fb5e/1584592093_segment_3_presenter_high_30fps.mp4', 'player': 'matterhorn', 'video_name': 'Lecture 8 - 0.mp4', 'max_time': 5})\n",
      "DEBUG: 1 running tasks, waiting for next task to finish\n",
      "INFO: Informed scheduler that task   DownloadVideo___URL____https___1fb2c9d0fd   has status   DONE\n",
      "DEBUG: Asking scheduler for work...\n",
      "DEBUG: Pending tasks: 1\n",
      "INFO: [pid 4380] Worker Worker(salt=181653114, workers=1, host=ET-RB-2019, username=Elliot Trilling, pid=4380) running   DownloadAllVideos(master_URL=https://canvas.harvard.edu/courses/69559/external_tools/22940)\n",
      "DEBUG: Not all parameter values are hashable so instance isn't coming from the cache\n",
      "DEBUG: Not all parameter values are hashable so instance isn't coming from the cache\n",
      "DEBUG: Not all parameter values are hashable so instance isn't coming from the cache\n",
      "DEBUG: Not all parameter values are hashable so instance isn't coming from the cache\n",
      "DEBUG: Not all parameter values are hashable so instance isn't coming from the cache\n",
      "DEBUG: Not all parameter values are hashable so instance isn't coming from the cache\n",
      "DEBUG: Not all parameter values are hashable so instance isn't coming from the cache\n",
      "DEBUG: Not all parameter values are hashable so instance isn't coming from the cache\n",
      "DEBUG: Not all parameter values are hashable so instance isn't coming from the cache\n",
      "DEBUG: Not all parameter values are hashable so instance isn't coming from the cache\n",
      "DEBUG: Not all parameter values are hashable so instance isn't coming from the cache\n",
      "DEBUG: Not all parameter values are hashable so instance isn't coming from the cache\n",
      "DEBUG: Not all parameter values are hashable so instance isn't coming from the cache\n",
      "INFO: [pid 4380] Worker Worker(salt=181653114, workers=1, host=ET-RB-2019, username=Elliot Trilling, pid=4380) done      DownloadAllVideos(master_URL=https://canvas.harvard.edu/courses/69559/external_tools/22940)\n",
      "DEBUG: 1 running tasks, waiting for next task to finish\n",
      "INFO: Informed scheduler that task   DownloadAllVideos_https___canvas_h_885a7e0fc5   has status   DONE\n",
      "DEBUG: Asking scheduler for work...\n",
      "DEBUG: Done\n",
      "DEBUG: There are no more tasks to run at this time\n",
      "INFO: Worker Worker(salt=181653114, workers=1, host=ET-RB-2019, username=Elliot Trilling, pid=4380) was stopped. Shutting down Keep-Alive thread\n",
      "INFO: \n",
      "===== Luigi Execution Summary =====\n",
      "\n",
      "Scheduled 15 tasks of which:\n",
      "* 1 complete ones were encountered:\n",
      "    - 1 DownloadMetadata(master_URL=https://canvas.harvard.edu/courses/69559/external_tools/22940)\n",
      "* 14 ran successfully:\n",
      "    - 1 DownloadAllVideos(master_URL=https://canvas.harvard.edu/courses/69559/external_tools/22940)\n",
      "    - 13 DownloadVideo(...)\n",
      "\n",
      "This progress looks :) because there were no failed tasks or missing dependencies\n",
      "\n",
      "===== Luigi Execution Summary =====\n",
      "\n"
     ]
    },
    {
     "name": "stdout",
     "output_type": "stream",
     "text": [
      "broke from loop after 5.403246164321899 seconds\n"
     ]
    },
    {
     "data": {
      "text/plain": [
       "True"
      ]
     },
     "execution_count": 7,
     "metadata": {},
     "output_type": "execute_result"
    }
   ],
   "source": [
    "from luigi.task import WrapperTask\n",
    "\n",
    "class DownloadAllVideos(WrapperTask):\n",
    "    master_URL = Parameter()\n",
    "    \n",
    "    def requires(self):\n",
    "        # fist we need to make sure we have the data\n",
    "        data_task = DownloadMetadata(master_URL=self.master_URL)\n",
    "        yield data_task\n",
    "        \n",
    "        # now we can download all the videos\n",
    "        with data_task.output().open('r') as f:\n",
    "            data = pickle.load(f)\n",
    "        title_to_urls = data['title_to_urls']\n",
    "        player_type = data['player_type']\n",
    "        \n",
    "        download_tasks = []\n",
    "        for title, urls in title_to_urls.items():\n",
    "            for url_num in range(len(urls)):\n",
    "                full_title = title + ' - ' + str(url_num) + \".mp4\"\n",
    "                \n",
    "                # TODO: update \"max_time\" at some point\n",
    "                params = {'URL': urls[url_num], 'player': player_type, 'video_name': full_title, 'max_time': 5}\n",
    "                task = DownloadVideo(download_video_params=params)\n",
    "                download_tasks.append(task)\n",
    "\n",
    "        yield download_tasks\n",
    "\n",
    "build([DownloadAllVideos(master_URL=matterhorn_URL)], local_scheduler=True)"
   ]
  },
  {
   "cell_type": "code",
   "execution_count": null,
   "metadata": {},
   "outputs": [],
   "source": []
  },
  {
   "cell_type": "code",
   "execution_count": null,
   "metadata": {},
   "outputs": [],
   "source": [
    "# class DownloadMetadata(ExternalTask):\n",
    "#     master_URL = Paramater()\n",
    "    \n",
    "#     def requires():\n",
    "#         nothing\n",
    "    \n",
    "#     def output():\n",
    "#         LocalTarget('metadata.plk')\n",
    "    \n",
    "#     def run():\n",
    "\n",
    "#         # do setup\n",
    "#         driver = setup_and_login()\n",
    "\n",
    "#         # get sources\n",
    "#         player_psource, player_type = get_player_psource(driver, master_URL)\n",
    "\n",
    "#         # get video dict\n",
    "#         video_dict = extract_video_links(player_psource, player=player_type)\n",
    "\n",
    "#         open_video_links(driver, video_dict, player=player_type, URL=master_URL) # pass in original url\n",
    "\n",
    "#         all_video_urls = get_video_urls(LOG_PATH)\n",
    "\n",
    "#         title_to_urls = get_title_to_urls(video_dict, all_video_urls, player=player_type)\n",
    "\n",
    "#         if player_type == 'matterhorn':\n",
    "#             title_to_urls = get_title_to_urls2(title_to_urls)\n",
    "        \n",
    "#         data = {'title_to_urls': title_to_urls, 'player_type': player_type}\n",
    "        \n",
    "#         with open('data.plk', 'wb') as f:\n",
    "#             pickle.dump(f, data)\n",
    "    \n",
    "\n",
    "# class DownloadAllVideos(Task):\n",
    "#     def requires():\n",
    "#         return DownloadMetadata()\n",
    "    \n",
    "#     def output():\n",
    "#         with open('data.plk', 'rb') as f:\n",
    "#             data = pickle.load(f)\n",
    "#         title_to_urls = data['title_to_urls']\n",
    "#         player_type = data['player_type']\n",
    "        \n",
    "#         download_tasks = []\n",
    "\n",
    "#         for title, urls in title_to_urls.items():\n",
    "#             for url_num in range(len(urls)):\n",
    "#                 full_title = title + ' - ' + str(url_num) + \".mp4\"\n",
    "\n",
    "#                 task = DownloadVideo(fname=full_title, download_video_params=(urls[url_num], player=player_type,\n",
    "#                                                                               video_name=full_title, max_time=10)) # TODO: update time\n",
    "#                 download_tasks.append(task)\n",
    "\n",
    "#         return download_tasks\n",
    "    \n",
    "#     def run():\n",
    "#         # I don't think we need to run anything\n",
    "#         pass\n",
    "\n",
    "\n",
    "# class DownloadVideo(Task):\n",
    "#     fname = Paramater()\n",
    "#     download_video_params = Paramater()\n",
    "    \n",
    "#     def requires():\n",
    "#         nothing\n",
    "    \n",
    "#     def output():\n",
    "#         LocalTarget(fname)\n",
    "    \n",
    "#     def run():\n",
    "#         download_video(download_video_params)\n"
   ]
  }
 ],
 "metadata": {
  "kernelspec": {
   "display_name": "Python 3",
   "language": "python",
   "name": "python3"
  },
  "language_info": {
   "codemirror_mode": {
    "name": "ipython",
    "version": 3
   },
   "file_extension": ".py",
   "mimetype": "text/x-python",
   "name": "python",
   "nbconvert_exporter": "python",
   "pygments_lexer": "ipython3",
   "version": "3.7.6"
  }
 },
 "nbformat": 4,
 "nbformat_minor": 4
}

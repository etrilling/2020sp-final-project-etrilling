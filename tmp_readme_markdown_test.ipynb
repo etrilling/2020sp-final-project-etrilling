{
 "cells": [
  {
   "cell_type": "markdown",
   "metadata": {},
   "source": [
    "- readme\n",
    "\t- add setup instructions (note that only chrome/chromeium can be used!)\n",
    "    - add run instructions\n",
    "\t- add explanation\n",
    "        - rough outline of code\n",
    "        - put data into config\n",
    "\n",
    "run a spell checker on this\n",
    "\n",
    "have mother try to do this! make a new dir!"
   ]
  },
  {
   "cell_type": "markdown",
   "metadata": {},
   "source": [
    "# CSCI E-29 Final Project\n",
    "\n",
    "##### TODO: add badges here\n",
    "\n",
    "### Short Description\n",
    "Given a link to a \"Recorded Lectures\" page on Canvas, download all lectures and all lecture slides (if applicable AND wanted). If desired, once lectures are downloaded, upload a copy to an S3 bucket.\n",
    "\n",
    "This is designed to work with both possible Harvard players. I refer to the \"normal\" player as the \"Matterhorn\" player (as all lecture links look like `matterhorn.dce.harvard.edu...`. The other player is called \"Panopto\" (with links like `harvard.hosted.panopto.com...`. When downloading from the Panopto player, slides can be downloaded if desired (by use of a command line flag).\n",
    "\n",
    "**Requirements**: use a Chromium based browser (for most people this will just be Google Chrome).\n",
    "\n",
    "\n",
    "### Setup\n",
    "\n",
    "1. Clone this repository to your computer.\n",
    "\n",
    "\n",
    "2. Setup the project virtual environment by running `pipenv install` (this assumes `pipenv` is already installed)\n",
    "\n",
    "\n",
    "3. Add your information to a `.env` file.\n",
    "    - CANVAS_USERNAME=XXX\n",
    "    - CANVAS_PASSWORD=XXX\n",
    "    - AWS_ACCESS_KEY_ID=XXX\n",
    "    - AWS_SECRET_ACCESS_KEY=XXX\n",
    "    - S3_ROOT=s3://BUCKET_NAME/PATH `example: s3://etrilling-cscie29/recorded_lectures`\n",
    "    - (optional) VIDEO_PATH=DOWNLOAD_LOCATION_FOR_VIDEOS `default: ./data/videos`\n",
    "\n",
    "\n",
    "4. Please visit https://chromedriver.chromium.org/downloads and follow the instructions to download the correct ChromeDriver file for your computer. (if needed, unzip the download to get the `chromedriver` file). Place the `chromedriver` file in `./data/drivers/`.\n",
    "\n",
    "\n",
    "5. run `pipenv run python -m final_project <COMMAND> <TARGET_URL> [--full] [--process_slides]`\n",
    "    - `<COMMAND>`: one of `download` or `upload`. NOTE: `upload` will start by calling `download`.\n",
    "    <br><br>\n",
    "    \n",
    "    - `<TARGET_URL>`: the url of a \"Recorded Lectures\" page on Canvas.\\\n",
    "    Example:\n",
    "    ![](./imgs/canvas_example_1.jpg)\n",
    "    Here, the correct `<TARGET_RUL>` is `https://canvas.harvard.edu/courses/69812/external_tools/22940`\n",
    "    <br><br>\n",
    "    \n",
    "    - `--full`: when set, the full length lectures and slides (if applicable AND wanted) will be downloaded. When not set, each lecture will only download for 1 second and only 2 slides will be downloaded (if applicable AND wanted). If not set, it is assumed the user is doing a test run.\n",
    "    <br><br>\n",
    "    \n",
    "    - `--process_slides`: when set AND the player type is Panopto, slides will be processed (downloaded / uploaded) along with the lectures.\n",
    "\n",
    "\n",
    "6. If you're downloading from a certain Canvas link for the first time, an instance of Google Chrome will pop up and autotomatially log you into Canvas. **You will need to manually confirm the automatic 2FA call**. Once logged in, the webdriver will proceed to open each lecture (collecting the required Chrome network traffic in a log file). Please do not click on anything while this is happening (if you do, you may need to re-run the command). Once finished, the Google Chrome instance will close and the program will start processing information in the background. You should only have to go through this process the first time you download from a given Canvas link (as Luigi will write the required information to a cache file for future use).\n",
    "    - NOTE: the program will automatically click \"Call Me\" on your default 2FA option. If you need to authenticate via a different number just cancel the default call, select the number you would like, and click \"Call Me\" manually. You have 120 seconds to finish the procedure before the script decides an error occurred and exits the program.\n",
    "\n",
    "\n",
    "7. Wait! Often 30-50GB of data will need to be downloaded (and optionally uploaded). Depending on your internet connection, this process could take several of hours.\n",
    "    - NOTE: I would highly suggest running your command of choice without the `--full` flag to make sure everything is working smoothly. You will need to delete the downloaded/uploaded local (and optinally S3) files before running the command *with* the `--full` flag (luigi can't tell a difference between `short` and `full` files).\n",
    "\n",
    "\n",
    "### How does it work?"
   ]
  }
 ],
 "metadata": {
  "kernelspec": {
   "display_name": "Python 3",
   "language": "python",
   "name": "python3"
  },
  "language_info": {
   "codemirror_mode": {
    "name": "ipython",
    "version": 3
   },
   "file_extension": ".py",
   "mimetype": "text/x-python",
   "name": "python",
   "nbconvert_exporter": "python",
   "pygments_lexer": "ipython3",
   "version": "3.7.6"
  }
 },
 "nbformat": 4,
 "nbformat_minor": 4
}
